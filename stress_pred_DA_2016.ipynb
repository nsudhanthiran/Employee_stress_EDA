{
  "nbformat": 4,
  "nbformat_minor": 0,
  "metadata": {
    "colab": {
      "provenance": []
    },
    "kernelspec": {
      "name": "python3",
      "display_name": "Python 3"
    },
    "language_info": {
      "name": "python"
    }
  },
  "cells": [
    {
      "cell_type": "code",
      "execution_count": null,
      "metadata": {
        "colab": {
          "base_uri": "https://localhost:8080/"
        },
        "id": "pyX-zzZ4rCEf",
        "outputId": "18c8c6df-5ce2-4698-86d6-a7edcada7f6a"
      },
      "outputs": [
        {
          "output_type": "stream",
          "name": "stdout",
          "text": [
            "Mounted at /content/drive\n"
          ]
        }
      ],
      "source": [
        "from google.colab import drive\n",
        "drive.mount('/content/drive')"
      ]
    },
    {
      "cell_type": "code",
      "source": [
        "import pandas as pd\n",
        "import numpy as np\n",
        "\n",
        "import random\n",
        "\n",
        "import matplotlib.pyplot as plt\n",
        "%matplotlib inline\n",
        "import seaborn as sns\n",
        "\n",
        "from sklearn.feature_selection import SelectKBest, chi2\n",
        "from sklearn.preprocessing import LabelEncoder, OrdinalEncoder"
      ],
      "metadata": {
        "id": "KrQHp7y6rFGp"
      },
      "execution_count": null,
      "outputs": []
    },
    {
      "cell_type": "code",
      "source": [
        "data = pd.read_csv('/content/drive/MyDrive/NITT datasets/OSMI 2016 Mental Health in Tech Survey.csv')"
      ],
      "metadata": {
        "id": "S1Wu0uN0rL-x"
      },
      "execution_count": null,
      "outputs": []
    },
    {
      "cell_type": "code",
      "source": [
        "pd.set_option('display.max_columns',None)\n",
        "pd.options.display.max_rows = None"
      ],
      "metadata": {
        "id": "yI3U25aTrPBf"
      },
      "execution_count": null,
      "outputs": []
    },
    {
      "cell_type": "code",
      "source": [
        "data.shape"
      ],
      "metadata": {
        "colab": {
          "base_uri": "https://localhost:8080/"
        },
        "id": "BzabEXvxrYXJ",
        "outputId": "2330766b-950d-41f8-b88b-dad6f44cd890"
      },
      "execution_count": null,
      "outputs": [
        {
          "output_type": "execute_result",
          "data": {
            "text/plain": [
              "(1433, 63)"
            ]
          },
          "metadata": {},
          "execution_count": 5
        }
      ]
    },
    {
      "cell_type": "code",
      "source": [
        "data.isna().sum().sum()/(131*124)"
      ],
      "metadata": {
        "colab": {
          "base_uri": "https://localhost:8080/"
        },
        "id": "S-NkHVeOrZdA",
        "outputId": "979f55a7-2de4-400e-8cca-c6b704d082f7"
      },
      "execution_count": null,
      "outputs": [
        {
          "output_type": "execute_result",
          "data": {
            "text/plain": [
              "1.351883772469835"
            ]
          },
          "metadata": {},
          "execution_count": 6
        }
      ]
    },
    {
      "cell_type": "code",
      "source": [
        "data.head(1)"
      ],
      "metadata": {
        "colab": {
          "base_uri": "https://localhost:8080/",
          "height": 509
        },
        "id": "1F9pRh9prcuX",
        "outputId": "ec9ac3fb-86da-4921-c11e-1e98ffd45f50"
      },
      "execution_count": null,
      "outputs": [
        {
          "output_type": "execute_result",
          "data": {
            "text/plain": [
              "   Are you self-employed?  \\\n",
              "0                       0   \n",
              "\n",
              "  How many employees does your company or organization have?  \\\n",
              "0                                             26-100           \n",
              "\n",
              "   Is your employer primarily a tech company/organization?  \\\n",
              "0                                                1.0         \n",
              "\n",
              "   Is your primary role within your company related to tech/IT?  \\\n",
              "0                                                NaN              \n",
              "\n",
              "  Does your employer provide mental health benefits as part of healthcare coverage?  \\\n",
              "0                    Not eligible for coverage / N/A                                  \n",
              "\n",
              "  Do you know the options for mental health care available under your employer-provided coverage?  \\\n",
              "0                                                NaN                                                \n",
              "\n",
              "  Has your employer ever formally discussed mental health (for example, as part of a wellness campaign or other official communication)?  \\\n",
              "0                                                 No                                                                                       \n",
              "\n",
              "  Does your employer offer resources to learn more about mental health concerns and options for seeking help?  \\\n",
              "0                                                 No                                                            \n",
              "\n",
              "  Is your anonymity protected if you choose to take advantage of mental health or substance abuse treatment resources provided by your employer?  \\\n",
              "0                                       I don't know                                                                                               \n",
              "\n",
              "  If a mental health issue prompted you to request a medical leave from work, asking for that leave would be:  \\\n",
              "0                                          Very easy                                                            \n",
              "\n",
              "  Do you think that discussing a mental health disorder with your employer would have negative consequences?  \\\n",
              "0                                                 No                                                           \n",
              "\n",
              "  Do you think that discussing a physical health issue with your employer would have negative consequences?  \\\n",
              "0                                                 No                                                          \n",
              "\n",
              "  Would you feel comfortable discussing a mental health disorder with your coworkers?  \\\n",
              "0                                              Maybe                                    \n",
              "\n",
              "  Would you feel comfortable discussing a mental health disorder with your direct supervisor(s)?  \\\n",
              "0                                                Yes                                               \n",
              "\n",
              "  Do you feel that your employer takes mental health as seriously as physical health?  \\\n",
              "0                                       I don't know                                    \n",
              "\n",
              "  Have you heard of or observed negative consequences for co-workers who have been open about mental health issues in your workplace?  \\\n",
              "0                                                 No                                                                                    \n",
              "\n",
              "   Do you have medical coverage (private insurance or state-provided) which includes treatment of  mental health issues?  \\\n",
              "0                                                NaN                                                                       \n",
              "\n",
              "  Do you know local or online resources to seek help for a mental health disorder?  \\\n",
              "0                                                NaN                                 \n",
              "\n",
              "  If you have been diagnosed or treated for a mental health disorder, do you ever reveal this to clients or business contacts?  \\\n",
              "0                                                NaN                                                                             \n",
              "\n",
              "  If you have revealed a mental health issue to a client or business contact, do you believe this has impacted you negatively?  \\\n",
              "0                                                NaN                                                                             \n",
              "\n",
              "  If you have been diagnosed or treated for a mental health disorder, do you ever reveal this to coworkers or employees?  \\\n",
              "0                                                NaN                                                                       \n",
              "\n",
              "  If you have revealed a mental health issue to a coworker or employee, do you believe this has impacted you negatively?  \\\n",
              "0                                                NaN                                                                       \n",
              "\n",
              "  Do you believe your productivity is ever affected by a mental health issue?  \\\n",
              "0                                                NaN                            \n",
              "\n",
              "  If yes, what percentage of your work time (time performing primary or secondary job functions) is affected by a mental health issue?  \\\n",
              "0                                                NaN                                                                                     \n",
              "\n",
              "   Do you have previous employers?  \\\n",
              "0                                1   \n",
              "\n",
              "  Have your previous employers provided mental health benefits?  \\\n",
              "0                                       No, none did              \n",
              "\n",
              "  Were you aware of the options for mental health care provided by your previous employers?  \\\n",
              "0                          N/A (not currently aware)                                          \n",
              "\n",
              "  Did your previous employers ever formally discuss mental health (as part of a wellness campaign or other official communication)?  \\\n",
              "0                                       I don't know                                                                                  \n",
              "\n",
              "  Did your previous employers provide resources to learn more about mental health issues and how to seek help?  \\\n",
              "0                                           None did                                                             \n",
              "\n",
              "  Was your anonymity protected if you chose to take advantage of mental health or substance abuse treatment resources with previous employers?  \\\n",
              "0                                       I don't know                                                                                             \n",
              "\n",
              "  Do you think that discussing a mental health disorder with previous employers would have negative consequences?  \\\n",
              "0                                       Some of them                                                                \n",
              "\n",
              "  Do you think that discussing a physical health issue with previous employers would have negative consequences?  \\\n",
              "0                                       None of them                                                               \n",
              "\n",
              "  Would you have been willing to discuss a mental health issue with your previous co-workers?  \\\n",
              "0                      Some of my previous employers                                            \n",
              "\n",
              "  Would you have been willing to discuss a mental health issue with your direct supervisor(s)?  \\\n",
              "0                      Some of my previous employers                                             \n",
              "\n",
              "  Did you feel that your previous employers took mental health as seriously as physical health?  \\\n",
              "0                                       I don't know                                              \n",
              "\n",
              "  Did you hear of or observe negative consequences for co-workers with mental health issues in your previous workplaces?  \\\n",
              "0                                       None of them                                                                       \n",
              "\n",
              "  Would you be willing to bring up a physical health issue with a potential employer in an interview?  \\\n",
              "0                                              Maybe                                                    \n",
              "\n",
              "  Why or why not?  \\\n",
              "0             NaN   \n",
              "\n",
              "  Would you bring up a mental health issue with a potential employer in an interview?  \\\n",
              "0                                              Maybe                                    \n",
              "\n",
              "  Why or why not?.1  \\\n",
              "0               NaN   \n",
              "\n",
              "  Do you feel that being identified as a person with a mental health issue would hurt your career?  \\\n",
              "0                                              Maybe                                                 \n",
              "\n",
              "  Do you think that team members/co-workers would view you more negatively if they knew you suffered from a mental health issue?  \\\n",
              "0                       No, I don't think they would                                                                               \n",
              "\n",
              "  How willing would you be to share with friends and family that you have a mental illness?  \\\n",
              "0                                      Somewhat open                                          \n",
              "\n",
              "  Have you observed or experienced an unsupportive or badly handled response to a mental health issue in your current or previous workplace?  \\\n",
              "0                                                 No                                                                                           \n",
              "\n",
              "  Have your observations of how another individual who discussed a mental health disorder made you less likely to reveal a mental health issue yourself in your current workplace?  \\\n",
              "0                                                NaN                                                                                                                                 \n",
              "\n",
              "  Do you have a family history of mental illness?  \\\n",
              "0                                              No   \n",
              "\n",
              "  Have you had a mental health disorder in the past?  \\\n",
              "0                                                Yes   \n",
              "\n",
              "  Do you currently have a mental health disorder?  \\\n",
              "0                                              No   \n",
              "\n",
              "  If yes, what condition(s) have you been diagnosed with?  \\\n",
              "0                                                NaN        \n",
              "\n",
              "  If maybe, what condition(s) do you believe you have?  \\\n",
              "0                                                NaN     \n",
              "\n",
              "  Have you been diagnosed with a mental health condition by a medical professional?  \\\n",
              "0                                                Yes                                  \n",
              "\n",
              "   If so, what condition(s) were you diagnosed with?  \\\n",
              "0  Anxiety Disorder (Generalized, Social, Phobia,...   \n",
              "\n",
              "   Have you ever sought treatment for a mental health issue from a mental health professional?  \\\n",
              "0                                                  0                                             \n",
              "\n",
              "  If you have a mental health issue, do you feel that it interferes with your work when being treated effectively?  \\\n",
              "0                               Not applicable to me                                                                 \n",
              "\n",
              "  If you have a mental health issue, do you feel that it interferes with your work when NOT being treated effectively?  \\\n",
              "0                               Not applicable to me                                                                     \n",
              "\n",
              "   What is your age? What is your gender? What country do you live in?  \\\n",
              "0                 39                 Male               United Kingdom   \n",
              "\n",
              "  What US state or territory do you live in? What country do you work in?  \\\n",
              "0                                        NaN               United Kingdom   \n",
              "\n",
              "  What US state or territory do you work in?  \\\n",
              "0                                        NaN   \n",
              "\n",
              "  Which of the following best describes your work position?  \\\n",
              "0                                 Back-end Developer          \n",
              "\n",
              "  Do you work remotely?  \n",
              "0             Sometimes  "
            ],
            "text/html": [
              "\n",
              "\n",
              "  <div id=\"df-d9b06cac-ad3a-4cbe-a749-60d49684938d\">\n",
              "    <div class=\"colab-df-container\">\n",
              "      <div>\n",
              "<style scoped>\n",
              "    .dataframe tbody tr th:only-of-type {\n",
              "        vertical-align: middle;\n",
              "    }\n",
              "\n",
              "    .dataframe tbody tr th {\n",
              "        vertical-align: top;\n",
              "    }\n",
              "\n",
              "    .dataframe thead th {\n",
              "        text-align: right;\n",
              "    }\n",
              "</style>\n",
              "<table border=\"1\" class=\"dataframe\">\n",
              "  <thead>\n",
              "    <tr style=\"text-align: right;\">\n",
              "      <th></th>\n",
              "      <th>Are you self-employed?</th>\n",
              "      <th>How many employees does your company or organization have?</th>\n",
              "      <th>Is your employer primarily a tech company/organization?</th>\n",
              "      <th>Is your primary role within your company related to tech/IT?</th>\n",
              "      <th>Does your employer provide mental health benefits as part of healthcare coverage?</th>\n",
              "      <th>Do you know the options for mental health care available under your employer-provided coverage?</th>\n",
              "      <th>Has your employer ever formally discussed mental health (for example, as part of a wellness campaign or other official communication)?</th>\n",
              "      <th>Does your employer offer resources to learn more about mental health concerns and options for seeking help?</th>\n",
              "      <th>Is your anonymity protected if you choose to take advantage of mental health or substance abuse treatment resources provided by your employer?</th>\n",
              "      <th>If a mental health issue prompted you to request a medical leave from work, asking for that leave would be:</th>\n",
              "      <th>Do you think that discussing a mental health disorder with your employer would have negative consequences?</th>\n",
              "      <th>Do you think that discussing a physical health issue with your employer would have negative consequences?</th>\n",
              "      <th>Would you feel comfortable discussing a mental health disorder with your coworkers?</th>\n",
              "      <th>Would you feel comfortable discussing a mental health disorder with your direct supervisor(s)?</th>\n",
              "      <th>Do you feel that your employer takes mental health as seriously as physical health?</th>\n",
              "      <th>Have you heard of or observed negative consequences for co-workers who have been open about mental health issues in your workplace?</th>\n",
              "      <th>Do you have medical coverage (private insurance or state-provided) which includes treatment of  mental health issues?</th>\n",
              "      <th>Do you know local or online resources to seek help for a mental health disorder?</th>\n",
              "      <th>If you have been diagnosed or treated for a mental health disorder, do you ever reveal this to clients or business contacts?</th>\n",
              "      <th>If you have revealed a mental health issue to a client or business contact, do you believe this has impacted you negatively?</th>\n",
              "      <th>If you have been diagnosed or treated for a mental health disorder, do you ever reveal this to coworkers or employees?</th>\n",
              "      <th>If you have revealed a mental health issue to a coworker or employee, do you believe this has impacted you negatively?</th>\n",
              "      <th>Do you believe your productivity is ever affected by a mental health issue?</th>\n",
              "      <th>If yes, what percentage of your work time (time performing primary or secondary job functions) is affected by a mental health issue?</th>\n",
              "      <th>Do you have previous employers?</th>\n",
              "      <th>Have your previous employers provided mental health benefits?</th>\n",
              "      <th>Were you aware of the options for mental health care provided by your previous employers?</th>\n",
              "      <th>Did your previous employers ever formally discuss mental health (as part of a wellness campaign or other official communication)?</th>\n",
              "      <th>Did your previous employers provide resources to learn more about mental health issues and how to seek help?</th>\n",
              "      <th>Was your anonymity protected if you chose to take advantage of mental health or substance abuse treatment resources with previous employers?</th>\n",
              "      <th>Do you think that discussing a mental health disorder with previous employers would have negative consequences?</th>\n",
              "      <th>Do you think that discussing a physical health issue with previous employers would have negative consequences?</th>\n",
              "      <th>Would you have been willing to discuss a mental health issue with your previous co-workers?</th>\n",
              "      <th>Would you have been willing to discuss a mental health issue with your direct supervisor(s)?</th>\n",
              "      <th>Did you feel that your previous employers took mental health as seriously as physical health?</th>\n",
              "      <th>Did you hear of or observe negative consequences for co-workers with mental health issues in your previous workplaces?</th>\n",
              "      <th>Would you be willing to bring up a physical health issue with a potential employer in an interview?</th>\n",
              "      <th>Why or why not?</th>\n",
              "      <th>Would you bring up a mental health issue with a potential employer in an interview?</th>\n",
              "      <th>Why or why not?.1</th>\n",
              "      <th>Do you feel that being identified as a person with a mental health issue would hurt your career?</th>\n",
              "      <th>Do you think that team members/co-workers would view you more negatively if they knew you suffered from a mental health issue?</th>\n",
              "      <th>How willing would you be to share with friends and family that you have a mental illness?</th>\n",
              "      <th>Have you observed or experienced an unsupportive or badly handled response to a mental health issue in your current or previous workplace?</th>\n",
              "      <th>Have your observations of how another individual who discussed a mental health disorder made you less likely to reveal a mental health issue yourself in your current workplace?</th>\n",
              "      <th>Do you have a family history of mental illness?</th>\n",
              "      <th>Have you had a mental health disorder in the past?</th>\n",
              "      <th>Do you currently have a mental health disorder?</th>\n",
              "      <th>If yes, what condition(s) have you been diagnosed with?</th>\n",
              "      <th>If maybe, what condition(s) do you believe you have?</th>\n",
              "      <th>Have you been diagnosed with a mental health condition by a medical professional?</th>\n",
              "      <th>If so, what condition(s) were you diagnosed with?</th>\n",
              "      <th>Have you ever sought treatment for a mental health issue from a mental health professional?</th>\n",
              "      <th>If you have a mental health issue, do you feel that it interferes with your work when being treated effectively?</th>\n",
              "      <th>If you have a mental health issue, do you feel that it interferes with your work when NOT being treated effectively?</th>\n",
              "      <th>What is your age?</th>\n",
              "      <th>What is your gender?</th>\n",
              "      <th>What country do you live in?</th>\n",
              "      <th>What US state or territory do you live in?</th>\n",
              "      <th>What country do you work in?</th>\n",
              "      <th>What US state or territory do you work in?</th>\n",
              "      <th>Which of the following best describes your work position?</th>\n",
              "      <th>Do you work remotely?</th>\n",
              "    </tr>\n",
              "  </thead>\n",
              "  <tbody>\n",
              "    <tr>\n",
              "      <th>0</th>\n",
              "      <td>0</td>\n",
              "      <td>26-100</td>\n",
              "      <td>1.0</td>\n",
              "      <td>NaN</td>\n",
              "      <td>Not eligible for coverage / N/A</td>\n",
              "      <td>NaN</td>\n",
              "      <td>No</td>\n",
              "      <td>No</td>\n",
              "      <td>I don't know</td>\n",
              "      <td>Very easy</td>\n",
              "      <td>No</td>\n",
              "      <td>No</td>\n",
              "      <td>Maybe</td>\n",
              "      <td>Yes</td>\n",
              "      <td>I don't know</td>\n",
              "      <td>No</td>\n",
              "      <td>NaN</td>\n",
              "      <td>NaN</td>\n",
              "      <td>NaN</td>\n",
              "      <td>NaN</td>\n",
              "      <td>NaN</td>\n",
              "      <td>NaN</td>\n",
              "      <td>NaN</td>\n",
              "      <td>NaN</td>\n",
              "      <td>1</td>\n",
              "      <td>No, none did</td>\n",
              "      <td>N/A (not currently aware)</td>\n",
              "      <td>I don't know</td>\n",
              "      <td>None did</td>\n",
              "      <td>I don't know</td>\n",
              "      <td>Some of them</td>\n",
              "      <td>None of them</td>\n",
              "      <td>Some of my previous employers</td>\n",
              "      <td>Some of my previous employers</td>\n",
              "      <td>I don't know</td>\n",
              "      <td>None of them</td>\n",
              "      <td>Maybe</td>\n",
              "      <td>NaN</td>\n",
              "      <td>Maybe</td>\n",
              "      <td>NaN</td>\n",
              "      <td>Maybe</td>\n",
              "      <td>No, I don't think they would</td>\n",
              "      <td>Somewhat open</td>\n",
              "      <td>No</td>\n",
              "      <td>NaN</td>\n",
              "      <td>No</td>\n",
              "      <td>Yes</td>\n",
              "      <td>No</td>\n",
              "      <td>NaN</td>\n",
              "      <td>NaN</td>\n",
              "      <td>Yes</td>\n",
              "      <td>Anxiety Disorder (Generalized, Social, Phobia,...</td>\n",
              "      <td>0</td>\n",
              "      <td>Not applicable to me</td>\n",
              "      <td>Not applicable to me</td>\n",
              "      <td>39</td>\n",
              "      <td>Male</td>\n",
              "      <td>United Kingdom</td>\n",
              "      <td>NaN</td>\n",
              "      <td>United Kingdom</td>\n",
              "      <td>NaN</td>\n",
              "      <td>Back-end Developer</td>\n",
              "      <td>Sometimes</td>\n",
              "    </tr>\n",
              "  </tbody>\n",
              "</table>\n",
              "</div>\n",
              "      <button class=\"colab-df-convert\" onclick=\"convertToInteractive('df-d9b06cac-ad3a-4cbe-a749-60d49684938d')\"\n",
              "              title=\"Convert this dataframe to an interactive table.\"\n",
              "              style=\"display:none;\">\n",
              "\n",
              "  <svg xmlns=\"http://www.w3.org/2000/svg\" height=\"24px\"viewBox=\"0 0 24 24\"\n",
              "       width=\"24px\">\n",
              "    <path d=\"M0 0h24v24H0V0z\" fill=\"none\"/>\n",
              "    <path d=\"M18.56 5.44l.94 2.06.94-2.06 2.06-.94-2.06-.94-.94-2.06-.94 2.06-2.06.94zm-11 1L8.5 8.5l.94-2.06 2.06-.94-2.06-.94L8.5 2.5l-.94 2.06-2.06.94zm10 10l.94 2.06.94-2.06 2.06-.94-2.06-.94-.94-2.06-.94 2.06-2.06.94z\"/><path d=\"M17.41 7.96l-1.37-1.37c-.4-.4-.92-.59-1.43-.59-.52 0-1.04.2-1.43.59L10.3 9.45l-7.72 7.72c-.78.78-.78 2.05 0 2.83L4 21.41c.39.39.9.59 1.41.59.51 0 1.02-.2 1.41-.59l7.78-7.78 2.81-2.81c.8-.78.8-2.07 0-2.86zM5.41 20L4 18.59l7.72-7.72 1.47 1.35L5.41 20z\"/>\n",
              "  </svg>\n",
              "      </button>\n",
              "\n",
              "\n",
              "\n",
              "    <div id=\"df-4de9a90f-95a1-4b98-8971-ed914b9456fd\">\n",
              "      <button class=\"colab-df-quickchart\" onclick=\"quickchart('df-4de9a90f-95a1-4b98-8971-ed914b9456fd')\"\n",
              "              title=\"Suggest charts.\"\n",
              "              style=\"display:none;\">\n",
              "\n",
              "<svg xmlns=\"http://www.w3.org/2000/svg\" height=\"24px\"viewBox=\"0 0 24 24\"\n",
              "     width=\"24px\">\n",
              "    <g>\n",
              "        <path d=\"M19 3H5c-1.1 0-2 .9-2 2v14c0 1.1.9 2 2 2h14c1.1 0 2-.9 2-2V5c0-1.1-.9-2-2-2zM9 17H7v-7h2v7zm4 0h-2V7h2v10zm4 0h-2v-4h2v4z\"/>\n",
              "    </g>\n",
              "</svg>\n",
              "      </button>\n",
              "    </div>\n",
              "\n",
              "<style>\n",
              "  .colab-df-quickchart {\n",
              "    background-color: #E8F0FE;\n",
              "    border: none;\n",
              "    border-radius: 50%;\n",
              "    cursor: pointer;\n",
              "    display: none;\n",
              "    fill: #1967D2;\n",
              "    height: 32px;\n",
              "    padding: 0 0 0 0;\n",
              "    width: 32px;\n",
              "  }\n",
              "\n",
              "  .colab-df-quickchart:hover {\n",
              "    background-color: #E2EBFA;\n",
              "    box-shadow: 0px 1px 2px rgba(60, 64, 67, 0.3), 0px 1px 3px 1px rgba(60, 64, 67, 0.15);\n",
              "    fill: #174EA6;\n",
              "  }\n",
              "\n",
              "  [theme=dark] .colab-df-quickchart {\n",
              "    background-color: #3B4455;\n",
              "    fill: #D2E3FC;\n",
              "  }\n",
              "\n",
              "  [theme=dark] .colab-df-quickchart:hover {\n",
              "    background-color: #434B5C;\n",
              "    box-shadow: 0px 1px 3px 1px rgba(0, 0, 0, 0.15);\n",
              "    filter: drop-shadow(0px 1px 2px rgba(0, 0, 0, 0.3));\n",
              "    fill: #FFFFFF;\n",
              "  }\n",
              "</style>\n",
              "\n",
              "    <script>\n",
              "      async function quickchart(key) {\n",
              "        const containerElement = document.querySelector('#' + key);\n",
              "        const charts = await google.colab.kernel.invokeFunction(\n",
              "            'suggestCharts', [key], {});\n",
              "      }\n",
              "    </script>\n",
              "\n",
              "      <script>\n",
              "\n",
              "function displayQuickchartButton(domScope) {\n",
              "  let quickchartButtonEl =\n",
              "    domScope.querySelector('#df-4de9a90f-95a1-4b98-8971-ed914b9456fd button.colab-df-quickchart');\n",
              "  quickchartButtonEl.style.display =\n",
              "    google.colab.kernel.accessAllowed ? 'block' : 'none';\n",
              "}\n",
              "\n",
              "        displayQuickchartButton(document);\n",
              "      </script>\n",
              "      <style>\n",
              "    .colab-df-container {\n",
              "      display:flex;\n",
              "      flex-wrap:wrap;\n",
              "      gap: 12px;\n",
              "    }\n",
              "\n",
              "    .colab-df-convert {\n",
              "      background-color: #E8F0FE;\n",
              "      border: none;\n",
              "      border-radius: 50%;\n",
              "      cursor: pointer;\n",
              "      display: none;\n",
              "      fill: #1967D2;\n",
              "      height: 32px;\n",
              "      padding: 0 0 0 0;\n",
              "      width: 32px;\n",
              "    }\n",
              "\n",
              "    .colab-df-convert:hover {\n",
              "      background-color: #E2EBFA;\n",
              "      box-shadow: 0px 1px 2px rgba(60, 64, 67, 0.3), 0px 1px 3px 1px rgba(60, 64, 67, 0.15);\n",
              "      fill: #174EA6;\n",
              "    }\n",
              "\n",
              "    [theme=dark] .colab-df-convert {\n",
              "      background-color: #3B4455;\n",
              "      fill: #D2E3FC;\n",
              "    }\n",
              "\n",
              "    [theme=dark] .colab-df-convert:hover {\n",
              "      background-color: #434B5C;\n",
              "      box-shadow: 0px 1px 3px 1px rgba(0, 0, 0, 0.15);\n",
              "      filter: drop-shadow(0px 1px 2px rgba(0, 0, 0, 0.3));\n",
              "      fill: #FFFFFF;\n",
              "    }\n",
              "  </style>\n",
              "\n",
              "      <script>\n",
              "        const buttonEl =\n",
              "          document.querySelector('#df-d9b06cac-ad3a-4cbe-a749-60d49684938d button.colab-df-convert');\n",
              "        buttonEl.style.display =\n",
              "          google.colab.kernel.accessAllowed ? 'block' : 'none';\n",
              "\n",
              "        async function convertToInteractive(key) {\n",
              "          const element = document.querySelector('#df-d9b06cac-ad3a-4cbe-a749-60d49684938d');\n",
              "          const dataTable =\n",
              "            await google.colab.kernel.invokeFunction('convertToInteractive',\n",
              "                                                     [key], {});\n",
              "          if (!dataTable) return;\n",
              "\n",
              "          const docLinkHtml = 'Like what you see? Visit the ' +\n",
              "            '<a target=\"_blank\" href=https://colab.research.google.com/notebooks/data_table.ipynb>data table notebook</a>'\n",
              "            + ' to learn more about interactive tables.';\n",
              "          element.innerHTML = '';\n",
              "          dataTable['output_type'] = 'display_data';\n",
              "          await google.colab.output.renderOutput(dataTable, element);\n",
              "          const docLink = document.createElement('div');\n",
              "          docLink.innerHTML = docLinkHtml;\n",
              "          element.appendChild(docLink);\n",
              "        }\n",
              "      </script>\n",
              "    </div>\n",
              "  </div>\n"
            ]
          },
          "metadata": {},
          "execution_count": 7
        }
      ]
    },
    {
      "cell_type": "code",
      "source": [
        "list(data)"
      ],
      "metadata": {
        "colab": {
          "base_uri": "https://localhost:8080/"
        },
        "id": "RnmYQTzGrfk4",
        "outputId": "f30a2a5b-0b6d-407c-9cf4-b1daff15dc96"
      },
      "execution_count": null,
      "outputs": [
        {
          "output_type": "execute_result",
          "data": {
            "text/plain": [
              "['Are you self-employed?',\n",
              " 'How many employees does your company or organization have?',\n",
              " 'Is your employer primarily a tech company/organization?',\n",
              " 'Is your primary role within your company related to tech/IT?',\n",
              " 'Does your employer provide mental health benefits as part of healthcare coverage?',\n",
              " 'Do you know the options for mental health care available under your employer-provided coverage?',\n",
              " 'Has your employer ever formally discussed mental health (for example, as part of a wellness campaign or other official communication)?',\n",
              " 'Does your employer offer resources to learn more about mental health concerns and options for seeking help?',\n",
              " 'Is your anonymity protected if you choose to take advantage of mental health or substance abuse treatment resources provided by your employer?',\n",
              " 'If a mental health issue prompted you to request a medical leave from work, asking for that leave would be:',\n",
              " 'Do you think that discussing a mental health disorder with your employer would have negative consequences?',\n",
              " 'Do you think that discussing a physical health issue with your employer would have negative consequences?',\n",
              " 'Would you feel comfortable discussing a mental health disorder with your coworkers?',\n",
              " 'Would you feel comfortable discussing a mental health disorder with your direct supervisor(s)?',\n",
              " 'Do you feel that your employer takes mental health as seriously as physical health?',\n",
              " 'Have you heard of or observed negative consequences for co-workers who have been open about mental health issues in your workplace?',\n",
              " 'Do you have medical coverage (private insurance or state-provided) which includes treatment of \\xa0mental health issues?',\n",
              " 'Do you know local or online resources to seek help for a mental health disorder?',\n",
              " 'If you have been diagnosed or treated for a mental health disorder, do you ever reveal this to clients or business contacts?',\n",
              " 'If you have revealed a mental health issue to a client or business contact, do you believe this has impacted you negatively?',\n",
              " 'If you have been diagnosed or treated for a mental health disorder, do you ever reveal this to coworkers or employees?',\n",
              " 'If you have revealed a mental health issue to a coworker or employee, do you believe this has impacted you negatively?',\n",
              " 'Do you believe your productivity is ever affected by a mental health issue?',\n",
              " 'If yes, what percentage of your work time (time performing primary or secondary job functions) is affected by a mental health issue?',\n",
              " 'Do you have previous employers?',\n",
              " 'Have your previous employers provided mental health benefits?',\n",
              " 'Were you aware of the options for mental health care provided by your previous employers?',\n",
              " 'Did your previous employers ever formally discuss mental health (as part of a wellness campaign or other official communication)?',\n",
              " 'Did your previous employers provide resources to learn more about mental health issues and how to seek help?',\n",
              " 'Was your anonymity protected if you chose to take advantage of mental health or substance abuse treatment resources with previous employers?',\n",
              " 'Do you think that discussing a mental health disorder with previous employers would have negative consequences?',\n",
              " 'Do you think that discussing a physical health issue with previous employers would have negative consequences?',\n",
              " 'Would you have been willing to discuss a mental health issue with your previous co-workers?',\n",
              " 'Would you have been willing to discuss a mental health issue with your direct supervisor(s)?',\n",
              " 'Did you feel that your previous employers took mental health as seriously as physical health?',\n",
              " 'Did you hear of or observe negative consequences for co-workers with mental health issues in your previous workplaces?',\n",
              " 'Would you be willing to bring up a physical health issue with a potential employer in an interview?',\n",
              " 'Why or why not?',\n",
              " 'Would you bring up a mental health issue with a potential employer in an interview?',\n",
              " 'Why or why not?.1',\n",
              " 'Do you feel that being identified as a person with a mental health issue would hurt your career?',\n",
              " 'Do you think that team members/co-workers would view you more negatively if they knew you suffered from a mental health issue?',\n",
              " 'How willing would you be to share with friends and family that you have a mental illness?',\n",
              " 'Have you observed or experienced an unsupportive or badly handled response to a mental health issue in your current or previous workplace?',\n",
              " 'Have your observations of how another individual who discussed a mental health disorder made you less likely to reveal a mental health issue yourself in your current workplace?',\n",
              " 'Do you have a family history of mental illness?',\n",
              " 'Have you had a mental health disorder in the past?',\n",
              " 'Do you currently have a mental health disorder?',\n",
              " 'If yes, what condition(s) have you been diagnosed with?',\n",
              " 'If maybe, what condition(s) do you believe you have?',\n",
              " 'Have you been diagnosed with a mental health condition by a medical professional?',\n",
              " 'If so, what condition(s) were you diagnosed with?',\n",
              " 'Have you ever sought treatment for a mental health issue from a mental health professional?',\n",
              " 'If you have a mental health issue, do you feel that it interferes with your work when being treated effectively?',\n",
              " 'If you have a mental health issue, do you feel that it interferes with your work when NOT being treated effectively?',\n",
              " 'What is your age?',\n",
              " 'What is your gender?',\n",
              " 'What country do you live in?',\n",
              " 'What US state or territory do you live in?',\n",
              " 'What country do you work in?',\n",
              " 'What US state or territory do you work in?',\n",
              " 'Which of the following best describes your work position?',\n",
              " 'Do you work remotely?']"
            ]
          },
          "metadata": {},
          "execution_count": 8
        }
      ]
    },
    {
      "cell_type": "code",
      "source": [
        "data.drop(columns=[\n",
        " 'Do you know the options for mental health care available under your employer-provided coverage?',\n",
        " 'Does your employer offer resources to learn more about mental health concerns and options for seeking help?',\n",
        " 'Is your anonymity protected if you choose to take advantage of mental health or substance abuse treatment resources provided by your employer?',\n",
        " 'If a mental health issue prompted you to request a medical leave from work, asking for that leave would be:',\n",
        " 'Do you think that discussing a mental health disorder with your employer would have negative consequences?',\n",
        " 'Do you think that discussing a physical health issue with your employer would have negative consequences?',\n",
        " 'Would you feel comfortable discussing a mental health disorder with your coworkers?',\n",
        " 'Would you feel comfortable discussing a mental health disorder with your direct supervisor(s)?',\n",
        " 'Do you feel that your employer takes mental health as seriously as physical health?',\n",
        " 'Have you heard of or observed negative consequences for co-workers who have been open about mental health issues in your workplace?',\n",
        " 'Do you know local or online resources to seek help for a mental health disorder?',\n",
        " 'If you have been diagnosed or treated for a mental health disorder, do you ever reveal this to clients or business contacts?',\n",
        " 'If you have revealed a mental health issue to a client or business contact, do you believe this has impacted you negatively?',\n",
        " 'If you have been diagnosed or treated for a mental health disorder, do you ever reveal this to coworkers or employees?',\n",
        " 'If you have revealed a mental health issue to a coworker or employee, do you believe this has impacted you negatively?',\n",
        " 'Do you believe your productivity is ever affected by a mental health issue?',\n",
        " 'If yes, what percentage of your work time (time performing primary or secondary job functions) is affected by a mental health issue?',\n",
        " 'Do you have previous employers?',\n",
        " 'Have your previous employers provided mental health benefits?',\n",
        " 'Were you aware of the options for mental health care provided by your previous employers?',\n",
        " 'Did your previous employers ever formally discuss mental health (as part of a wellness campaign or other official communication)?',\n",
        " 'Did your previous employers provide resources to learn more about mental health issues and how to seek help?',\n",
        " 'Was your anonymity protected if you chose to take advantage of mental health or substance abuse treatment resources with previous employers?',\n",
        " 'Do you think that discussing a mental health disorder with previous employers would have negative consequences?',\n",
        " 'Do you think that discussing a physical health issue with previous employers would have negative consequences?',\n",
        " 'Would you have been willing to discuss a mental health issue with your previous co-workers?',\n",
        " 'Would you have been willing to discuss a mental health issue with your direct supervisor(s)?',\n",
        " 'Did you feel that your previous employers took mental health as seriously as physical health?',\n",
        " 'Did you hear of or observe negative consequences for co-workers with mental health issues in your previous workplaces?',\n",
        " 'Would you be willing to bring up a physical health issue with a potential employer in an interview?',\n",
        " 'Why or why not?',\n",
        " 'Would you bring up a mental health issue with a potential employer in an interview?',\n",
        " 'Why or why not?.1',\n",
        " 'Do you feel that being identified as a person with a mental health issue would hurt your career?',\n",
        " 'Do you think that team members/co-workers would view you more negatively if they knew you suffered from a mental health issue?',\n",
        " 'How willing would you be to share with friends and family that you have a mental illness?',\n",
        " 'Have you observed or experienced an unsupportive or badly handled response to a mental health issue in your current or previous workplace?',\n",
        " 'Have your observations of how another individual who discussed a mental health disorder made you less likely to reveal a mental health issue yourself in your current workplace?',\n",
        " 'Have you had a mental health disorder in the past?',\n",
        " 'If yes, what condition(s) have you been diagnosed with?',\n",
        " 'If maybe, what condition(s) do you believe you have?',\n",
        " 'If so, what condition(s) were you diagnosed with?',\n",
        " 'If you have a mental health issue, do you feel that it interferes with your work when being treated effectively?',\n",
        " 'If you have a mental health issue, do you feel that it interferes with your work when NOT being treated effectively?',\n",
        " 'What US state or territory do you live in?',\n",
        " 'What US state or territory do you work in?',\n",
        " 'Which of the following best describes your work position?',\n",
        " 'Do you work remotely?'\n",
        " ],inplace = True,axis =1\n",
        "          )"
      ],
      "metadata": {
        "id": "i99SsMlnrrDg"
      },
      "execution_count": null,
      "outputs": []
    },
    {
      "cell_type": "code",
      "source": [
        "data.shape"
      ],
      "metadata": {
        "colab": {
          "base_uri": "https://localhost:8080/"
        },
        "id": "33pmRmy8t4On",
        "outputId": "8e9ba09f-e972-453c-974b-2a382cc552cc"
      },
      "execution_count": null,
      "outputs": [
        {
          "output_type": "execute_result",
          "data": {
            "text/plain": [
              "(1433, 15)"
            ]
          },
          "metadata": {},
          "execution_count": 10
        }
      ]
    },
    {
      "cell_type": "code",
      "source": [
        "data.columns"
      ],
      "metadata": {
        "colab": {
          "base_uri": "https://localhost:8080/"
        },
        "id": "U1bOLCtZuNGn",
        "outputId": "0ae79b6d-0aa5-494e-99e3-2ea2fea51300"
      },
      "execution_count": null,
      "outputs": [
        {
          "output_type": "execute_result",
          "data": {
            "text/plain": [
              "Index(['Are you self-employed?',\n",
              "       'How many employees does your company or organization have?',\n",
              "       'Is your employer primarily a tech company/organization?',\n",
              "       'Is your primary role within your company related to tech/IT?',\n",
              "       'Does your employer provide mental health benefits as part of healthcare coverage?',\n",
              "       'Has your employer ever formally discussed mental health (for example, as part of a wellness campaign or other official communication)?',\n",
              "       'Do you have medical coverage (private insurance or state-provided) which includes treatment of  mental health issues?',\n",
              "       'Do you have a family history of mental illness?',\n",
              "       'Do you currently have a mental health disorder?',\n",
              "       'Have you been diagnosed with a mental health condition by a medical professional?',\n",
              "       'Have you ever sought treatment for a mental health issue from a mental health professional?',\n",
              "       'What is your age?', 'What is your gender?',\n",
              "       'What country do you live in?', 'What country do you work in?'],\n",
              "      dtype='object')"
            ]
          },
          "metadata": {},
          "execution_count": 11
        }
      ]
    },
    {
      "cell_type": "code",
      "source": [
        "new_column_order = ['Are you self-employed?',\n",
        "       'How many employees does your company or organization have?',\n",
        "       'Is your employer primarily a tech company/organization?',\n",
        "       'Is your primary role within your company related to tech/IT?',\n",
        "       'Does your employer provide mental health benefits as part of healthcare coverage?',\n",
        "       'Has your employer ever formally discussed mental health (for example, as part of a wellness campaign or other official communication)?',\n",
        "       'Do you have medical coverage (private insurance or state-provided) which includes treatment of  mental health issues?',\n",
        "       'Do you currently have a mental health disorder?',\n",
        "       'Have you been diagnosed with a mental health condition by a medical professional?',\n",
        "       'Have you ever sought treatment for a mental health issue from a mental health professional?',\n",
        "       'Do you have a family history of mental illness?',\n",
        "       'What is your age?', 'What is your gender?',\n",
        "       'What country do you live in?', 'What country do you work in?']\n",
        "data = data.reindex(columns=new_column_order)"
      ],
      "metadata": {
        "id": "5fGxnBfXuOy4"
      },
      "execution_count": null,
      "outputs": []
    },
    {
      "cell_type": "code",
      "source": [
        "data.columns"
      ],
      "metadata": {
        "colab": {
          "base_uri": "https://localhost:8080/"
        },
        "id": "0XgNzQgSvHR4",
        "outputId": "5db13bfc-63b4-44fb-9e84-494b9fda0e98"
      },
      "execution_count": null,
      "outputs": [
        {
          "output_type": "execute_result",
          "data": {
            "text/plain": [
              "Index(['Are you self-employed?',\n",
              "       'How many employees does your company or organization have?',\n",
              "       'Is your employer primarily a tech company/organization?',\n",
              "       'Is your primary role within your company related to tech/IT?',\n",
              "       'Does your employer provide mental health benefits as part of healthcare coverage?',\n",
              "       'Has your employer ever formally discussed mental health (for example, as part of a wellness campaign or other official communication)?',\n",
              "       'Do you have medical coverage (private insurance or state-provided) which includes treatment of  mental health issues?',\n",
              "       'Do you currently have a mental health disorder?',\n",
              "       'Have you been diagnosed with a mental health condition by a medical professional?',\n",
              "       'Have you ever sought treatment for a mental health issue from a mental health professional?',\n",
              "       'Do you have a family history of mental illness?', 'What is your age?',\n",
              "       'What is your gender?', 'What country do you live in?',\n",
              "       'What country do you work in?'],\n",
              "      dtype='object')"
            ]
          },
          "metadata": {},
          "execution_count": 13
        }
      ]
    },
    {
      "cell_type": "code",
      "source": [
        "data.columns = ['Self-employed?', 'Num. Employees', 'Tech company?',\n",
        "               'Tech related role?', 'M-H benefits?','Workplace Discussion?','Medical Coverage?',\n",
        "                'Current illness', 'Previously diagnosed?','Sought help?',\n",
        "                'Illness history?', 'Age', 'Gender', 'Live Country',\n",
        "                   'Work Country']"
      ],
      "metadata": {
        "id": "Fyf8FliHvIw3"
      },
      "execution_count": null,
      "outputs": []
    },
    {
      "cell_type": "code",
      "source": [
        "data.isna().sum().sort_values()"
      ],
      "metadata": {
        "colab": {
          "base_uri": "https://localhost:8080/"
        },
        "id": "3qsQafcCvOzI",
        "outputId": "e9084eab-426e-40c1-dee7-c58d0a2a4785"
      },
      "execution_count": null,
      "outputs": [
        {
          "output_type": "execute_result",
          "data": {
            "text/plain": [
              "Self-employed?              0\n",
              "Current illness             0\n",
              "Previously diagnosed?       0\n",
              "Sought help?                0\n",
              "Illness history?            0\n",
              "Age                         0\n",
              "Live Country                0\n",
              "Work Country                0\n",
              "Gender                      3\n",
              "Num. Employees            287\n",
              "Tech company?             287\n",
              "M-H benefits?             287\n",
              "Workplace Discussion?     287\n",
              "Tech related role?       1170\n",
              "Medical Coverage?        1433\n",
              "dtype: int64"
            ]
          },
          "metadata": {},
          "execution_count": 15
        }
      ]
    },
    {
      "cell_type": "code",
      "source": [
        "#stop"
      ],
      "metadata": {
        "id": "G-jOpvtCvuEP"
      },
      "execution_count": null,
      "outputs": []
    },
    {
      "cell_type": "code",
      "source": [
        "data['Tech related role?'] = data['Tech related role?'].fillna(1.0)"
      ],
      "metadata": {
        "id": "uv3mBa9CvQJY"
      },
      "execution_count": null,
      "outputs": []
    },
    {
      "cell_type": "code",
      "source": [
        "data['Tech related role?'].value_counts()"
      ],
      "metadata": {
        "colab": {
          "base_uri": "https://localhost:8080/"
        },
        "id": "YRQs879evVZY",
        "outputId": "616ce0d3-fda7-491d-9bfb-17d2e219900c"
      },
      "execution_count": null,
      "outputs": [
        {
          "output_type": "execute_result",
          "data": {
            "text/plain": [
              "1.0    1418\n",
              "0.0      15\n",
              "Name: Tech related role?, dtype: int64"
            ]
          },
          "metadata": {},
          "execution_count": 18
        }
      ]
    },
    {
      "cell_type": "code",
      "source": [
        "data.drop(data[data['Tech related role?'] == 0.0].index, inplace=True)"
      ],
      "metadata": {
        "id": "rV2JoGTnvYBQ"
      },
      "execution_count": null,
      "outputs": []
    },
    {
      "cell_type": "code",
      "source": [
        "data['Tech related role?'].value_counts()"
      ],
      "metadata": {
        "colab": {
          "base_uri": "https://localhost:8080/"
        },
        "id": "rH1nzxmxvZ1Q",
        "outputId": "ce4c610b-9a06-4eed-c46d-31080b317116"
      },
      "execution_count": null,
      "outputs": [
        {
          "output_type": "execute_result",
          "data": {
            "text/plain": [
              "1.0    1418\n",
              "Name: Tech related role?, dtype: int64"
            ]
          },
          "metadata": {},
          "execution_count": 20
        }
      ]
    },
    {
      "cell_type": "code",
      "source": [
        "data.shape"
      ],
      "metadata": {
        "colab": {
          "base_uri": "https://localhost:8080/"
        },
        "id": "8jcAty11vbHg",
        "outputId": "4007003a-b6df-4f74-946b-99a9223152ea"
      },
      "execution_count": null,
      "outputs": [
        {
          "output_type": "execute_result",
          "data": {
            "text/plain": [
              "(1418, 15)"
            ]
          },
          "metadata": {},
          "execution_count": 21
        }
      ]
    },
    {
      "cell_type": "code",
      "source": [
        "data.drop(columns='Tech related role?',inplace=True)"
      ],
      "metadata": {
        "id": "0aemLFRivl33"
      },
      "execution_count": null,
      "outputs": []
    },
    {
      "cell_type": "code",
      "source": [
        "data['Gender'] = data['Gender'].fillna('Other')"
      ],
      "metadata": {
        "id": "m3KoOK0xwbGR"
      },
      "execution_count": null,
      "outputs": []
    },
    {
      "cell_type": "code",
      "source": [
        "data['Gender'] = data['Gender'].str.lower().str.strip()\n",
        "data['Gender'].value_counts()"
      ],
      "metadata": {
        "colab": {
          "base_uri": "https://localhost:8080/"
        },
        "id": "G6lLjJjqwjUH",
        "outputId": "5b034c7d-1e5e-427d-9633-10bdfd257cd9"
      },
      "execution_count": null,
      "outputs": [
        {
          "output_type": "execute_result",
          "data": {
            "text/plain": [
              "male                                                                                                                                                            868\n",
              "female                                                                                                                                                          254\n",
              "m                                                                                                                                                               164\n",
              "f                                                                                                                                                                60\n",
              "woman                                                                                                                                                             6\n",
              "man                                                                                                                                                               5\n",
              "non-binary                                                                                                                                                        4\n",
              "other                                                                                                                                                             4\n",
              "cis male                                                                                                                                                          3\n",
              "nonbinary                                                                                                                                                         2\n",
              "agender                                                                                                                                                           2\n",
              "human                                                                                                                                                             2\n",
              "male (cis)                                                                                                                                                        2\n",
              "genderqueer                                                                                                                                                       2\n",
              "female or multi-gender femme                                                                                                                                      1\n",
              "other/transfeminine                                                                                                                                               1\n",
              "dude                                                                                                                                                              1\n",
              "fluid                                                                                                                                                             1\n",
              "i'm a man why didn't you make this a drop down question. you should of asked sex? and i would of answered yes please. seriously how much text can this take?      1\n",
              "mail                                                                                                                                                              1\n",
              "m|                                                                                                                                                                1\n",
              "male/genderqueer                                                                                                                                                  1\n",
              "fem                                                                                                                                                               1\n",
              "i identify as female.                                                                                                                                             1\n",
              "female (props for making this a freeform field, though)                                                                                                           1\n",
              "unicorn                                                                                                                                                           1\n",
              "male (trans, ftm)                                                                                                                                                 1\n",
              "cis-woman                                                                                                                                                         1\n",
              "cisdude                                                                                                                                                           1\n",
              "genderflux demi-girl                                                                                                                                              1\n",
              "female-bodied; no feelings about gender                                                                                                                           1\n",
              "cis man                                                                                                                                                           1\n",
              "afab                                                                                                                                                              1\n",
              "bigender                                                                                                                                                          1\n",
              "queer                                                                                                                                                             1\n",
              "mtf                                                                                                                                                               1\n",
              "nb masculine                                                                                                                                                      1\n",
              "female/woman                                                                                                                                                      1\n",
              "genderfluid (born female)                                                                                                                                         1\n",
              "male.                                                                                                                                                             1\n",
              "androgynous                                                                                                                                                       1\n",
              "male 9:1 female, roughly                                                                                                                                          1\n",
              "transitioned, m2f                                                                                                                                                 1\n",
              "cis female                                                                                                                                                        1\n",
              "cisgender female                                                                                                                                                  1\n",
              "genderqueer woman                                                                                                                                                 1\n",
              "sex is male                                                                                                                                                       1\n",
              "none of your business                                                                                                                                             1\n",
              "fm                                                                                                                                                                1\n",
              "female assigned at birth                                                                                                                                          1\n",
              "genderfluid                                                                                                                                                       1\n",
              "enby                                                                                                                                                              1\n",
              "malr                                                                                                                                                              1\n",
              "transgender woman                                                                                                                                                 1\n",
              "Name: Gender, dtype: int64"
            ]
          },
          "metadata": {},
          "execution_count": 24
        }
      ]
    },
    {
      "cell_type": "code",
      "source": [
        "data[\"Gender\"].unique()"
      ],
      "metadata": {
        "colab": {
          "base_uri": "https://localhost:8080/"
        },
        "id": "oW4CvSAkwk7X",
        "outputId": "3a84f2c3-2b98-4a3e-a3b0-c6c34c6768c2"
      },
      "execution_count": null,
      "outputs": [
        {
          "output_type": "execute_result",
          "data": {
            "text/plain": [
              "array(['male', 'female', 'm', 'i identify as female.', 'bigender',\n",
              "       'non-binary', 'female assigned at birth', 'f', 'man', 'fm',\n",
              "       'cis female', 'transitioned, m2f', 'genderfluid (born female)',\n",
              "       'other/transfeminine', 'female or multi-gender femme', 'woman',\n",
              "       'female/woman', 'cis male', 'male.', 'androgynous',\n",
              "       'male 9:1 female, roughly', 'other', 'male (cis)', 'nb masculine',\n",
              "       'cisgender female', 'sex is male', 'none of your business',\n",
              "       'genderqueer', 'human', 'genderfluid', 'enby', 'malr',\n",
              "       'genderqueer woman', 'mtf', 'queer', 'agender', 'dude', 'fluid',\n",
              "       \"i'm a man why didn't you make this a drop down question. you should of asked sex? and i would of answered yes please. seriously how much text can this take?\",\n",
              "       'mail', 'm|', 'male/genderqueer', 'fem', 'nonbinary',\n",
              "       'female (props for making this a freeform field, though)',\n",
              "       'unicorn', 'male (trans, ftm)', 'cis-woman', 'cisdude',\n",
              "       'genderflux demi-girl', 'female-bodied; no feelings about gender',\n",
              "       'cis man', 'afab', 'transgender woman'], dtype=object)"
            ]
          },
          "metadata": {},
          "execution_count": 25
        }
      ]
    },
    {
      "cell_type": "code",
      "source": [
        "Male = ['male', 'm', 'man', 'cis male', 'male.', 'male (cis)', 'nb masculine', 'sex is male', 'malr', 'mtf', 'dude', 'mail', 'm|', 'male/genderqueer', 'cis man', 'cisdude', 'male (trans, ftm)']\n",
        "Female = [ 'fm','female', 'i identify as female.', 'female assigned at birth', 'f', 'genderfluid (born female)', 'female (props for making this a freeform field, though)','female or multi-gender femme', 'woman', 'female/woman',  'genderqueer woman','fem',  'cis-woman',  'afab']\n",
        "Other = ['transgender woman', 'cis female','bigender','cisgender female', 'non-binary', 'other/transfeminine', 'androgynous', 'male 9:1 female, roughly', 'other','genderflux demi-girl', 'none of your business', 'genderqueer', 'human', 'genderfluid', 'enby',  'mtf','nonbinary',  'unicorn', 'cis-woman', 'female-bodied; no feelings about gender', 'queer', 'agender', 'fluid', \"i'm a man why didn't you make this a drop down question. you should of asked sex? and i would of answered yes please. seriously how much text can this take?\"]"
      ],
      "metadata": {
        "id": "ete2BOG7woo3"
      },
      "execution_count": null,
      "outputs": []
    },
    {
      "cell_type": "code",
      "source": [
        "data['Gender'] = data['Gender'].replace(Male,'M')\n",
        "data['Gender'] = data['Gender'].replace(Female,'F')\n",
        "data['Gender'] = data['Gender'].replace(Other,'O')"
      ],
      "metadata": {
        "id": "MEPNiMNCyXy3"
      },
      "execution_count": null,
      "outputs": []
    },
    {
      "cell_type": "code",
      "source": [
        "data['Gender'].value_counts()"
      ],
      "metadata": {
        "colab": {
          "base_uri": "https://localhost:8080/"
        },
        "id": "TUH876uqyZuH",
        "outputId": "edabb707-a215-4e9d-c937-713b7045ddea"
      },
      "execution_count": null,
      "outputs": [
        {
          "output_type": "execute_result",
          "data": {
            "text/plain": [
              "M                    1054\n",
              "F                     331\n",
              "O                      32\n",
              "transitioned, m2f       1\n",
              "Name: Gender, dtype: int64"
            ]
          },
          "metadata": {},
          "execution_count": 28
        }
      ]
    },
    {
      "cell_type": "code",
      "source": [
        "Other = ['transitioned, m2f']\n",
        "data['Gender'] = data['Gender'].replace(Other,'O')"
      ],
      "metadata": {
        "id": "3z7pVzmKya14"
      },
      "execution_count": null,
      "outputs": []
    },
    {
      "cell_type": "code",
      "source": [
        "data['Gender'].value_counts()"
      ],
      "metadata": {
        "colab": {
          "base_uri": "https://localhost:8080/"
        },
        "id": "ZwIDipJDysnf",
        "outputId": "e621e484-b259-4497-fe1e-7b894956fb81"
      },
      "execution_count": null,
      "outputs": [
        {
          "output_type": "execute_result",
          "data": {
            "text/plain": [
              "M    1054\n",
              "F     331\n",
              "O      33\n",
              "Name: Gender, dtype: int64"
            ]
          },
          "metadata": {},
          "execution_count": 30
        }
      ]
    },
    {
      "cell_type": "code",
      "source": [
        "data['M-H benefits?'].value_counts()"
      ],
      "metadata": {
        "colab": {
          "base_uri": "https://localhost:8080/"
        },
        "id": "vcT9noMNyucA",
        "outputId": "8ea9844e-937e-4266-a5c5-c165c479f95c"
      },
      "execution_count": null,
      "outputs": [
        {
          "output_type": "execute_result",
          "data": {
            "text/plain": [
              "Yes                                524\n",
              "I don't know                       316\n",
              "No                                 210\n",
              "Not eligible for coverage / N/A     81\n",
              "Name: M-H benefits?, dtype: int64"
            ]
          },
          "metadata": {},
          "execution_count": 31
        }
      ]
    },
    {
      "cell_type": "code",
      "source": [
        "data.loc[data['M-H benefits?']=='Not eligible for coverage / N/A' , 'M-H benefits?'] = 'No'"
      ],
      "metadata": {
        "id": "VxPXteMEzA4v"
      },
      "execution_count": null,
      "outputs": []
    },
    {
      "cell_type": "code",
      "source": [
        "data['Previously diagnosed?'].value_counts()"
      ],
      "metadata": {
        "colab": {
          "base_uri": "https://localhost:8080/"
        },
        "id": "8hf3q1cSzKIn",
        "outputId": "761eeb97-b397-4010-c661-d3126731b452"
      },
      "execution_count": null,
      "outputs": [
        {
          "output_type": "execute_result",
          "data": {
            "text/plain": [
              "Yes    710\n",
              "No     708\n",
              "Name: Previously diagnosed?, dtype: int64"
            ]
          },
          "metadata": {},
          "execution_count": 33
        }
      ]
    },
    {
      "cell_type": "code",
      "source": [
        "data['Previously diagnosed?'].fillna('Unspecified',inplace = True)"
      ],
      "metadata": {
        "id": "k81fobQ2zL8P"
      },
      "execution_count": null,
      "outputs": []
    },
    {
      "cell_type": "code",
      "source": [
        "a = 100 * (data.isna().sum()) / len(data)\n",
        "print( 'Percentage of missing values for each column is\\n')\n",
        "a"
      ],
      "metadata": {
        "colab": {
          "base_uri": "https://localhost:8080/"
        },
        "id": "4QpsQs1GzTsI",
        "outputId": "d0a07cfb-6f51-488f-e730-6819318db4cc"
      },
      "execution_count": null,
      "outputs": [
        {
          "output_type": "stream",
          "name": "stdout",
          "text": [
            "Percentage of missing values for each column is\n",
            "\n"
          ]
        },
        {
          "output_type": "execute_result",
          "data": {
            "text/plain": [
              "Self-employed?             0.000000\n",
              "Num. Employees            20.239774\n",
              "Tech company?             20.239774\n",
              "M-H benefits?             20.239774\n",
              "Workplace Discussion?     20.239774\n",
              "Medical Coverage?        100.000000\n",
              "Current illness            0.000000\n",
              "Previously diagnosed?      0.000000\n",
              "Sought help?               0.000000\n",
              "Illness history?           0.000000\n",
              "Age                        0.000000\n",
              "Gender                     0.000000\n",
              "Live Country               0.000000\n",
              "Work Country               0.000000\n",
              "dtype: float64"
            ]
          },
          "metadata": {},
          "execution_count": 35
        }
      ]
    },
    {
      "cell_type": "code",
      "source": [
        "data.loc[data['M-H benefits?']=='Yes', 'Medical Coverage?'] = 'Yes'"
      ],
      "metadata": {
        "id": "P6gV1f_JzWj3"
      },
      "execution_count": null,
      "outputs": []
    },
    {
      "cell_type": "code",
      "source": [
        "data.loc[data['Live Country']=='United Kingdom', 'Medical Coverage?'] = 'Yes'"
      ],
      "metadata": {
        "id": "vtkuMoZAc1Xk"
      },
      "execution_count": null,
      "outputs": []
    },
    {
      "cell_type": "code",
      "source": [
        "US_total = data.loc[data['Live Country']=='United States of America']\n",
        "print('Amount of USA residents :{}'.format(len(US_total)))"
      ],
      "metadata": {
        "colab": {
          "base_uri": "https://localhost:8080/"
        },
        "id": "RiUiqbfvc2mz",
        "outputId": "8f93895c-62ae-4dad-c4b9-917cd2a7af4b"
      },
      "execution_count": null,
      "outputs": [
        {
          "output_type": "stream",
          "name": "stdout",
          "text": [
            "Amount of USA residents :826\n"
          ]
        }
      ]
    },
    {
      "cell_type": "code",
      "source": [
        "US_nan = data.loc[(data['Medical Coverage?'].isna()) & (data['Live Country']=='United States of America')]\n",
        "print('Amount of USA residents without Medical coverage provided by their employer :{}'.format(len(US_nan)))\n",
        "\n",
        "#Percentage of uninsured\n",
        "Uninsured = round(100*((len(US_nan)) / (len(US_total))), 2)\n",
        "\n",
        "print('This is ' + str(Uninsured) + '%')"
      ],
      "metadata": {
        "colab": {
          "base_uri": "https://localhost:8080/"
        },
        "id": "57gXEn5Qc3_D",
        "outputId": "6a57b353-d622-4c41-ab83-b429bb54b77e"
      },
      "execution_count": null,
      "outputs": [
        {
          "output_type": "stream",
          "name": "stdout",
          "text": [
            "Amount of USA residents without Medical coverage provided by their employer :405\n",
            "This is 49.03%\n"
          ]
        }
      ]
    },
    {
      "cell_type": "code",
      "source": [
        "import random"
      ],
      "metadata": {
        "id": "CgJjFXBDc5fc"
      },
      "execution_count": null,
      "outputs": []
    },
    {
      "cell_type": "code",
      "source": [
        "Nan_list = list(US_nan.index)\n",
        "Random_samples = random.sample(Nan_list,4)\n",
        "(Random_samples.sort())\n",
        "print(Random_samples)\n",
        "type(Random_samples)"
      ],
      "metadata": {
        "colab": {
          "base_uri": "https://localhost:8080/"
        },
        "id": "Jht4RPkwc7m0",
        "outputId": "81dedfe7-9b77-4308-db58-e897efbcbae9"
      },
      "execution_count": null,
      "outputs": [
        {
          "output_type": "stream",
          "name": "stdout",
          "text": [
            "[20, 385, 645, 753]\n"
          ]
        },
        {
          "output_type": "execute_result",
          "data": {
            "text/plain": [
              "list"
            ]
          },
          "metadata": {},
          "execution_count": 41
        }
      ]
    },
    {
      "cell_type": "code",
      "source": [
        "for i in Random_samples:\n",
        "  data.at[i, 'Medical Coverage?'] = 'No'"
      ],
      "metadata": {
        "id": "HBzzme_Hc9VL"
      },
      "execution_count": null,
      "outputs": []
    },
    {
      "cell_type": "code",
      "source": [
        "data.loc[(data['Live Country']=='United States of America') & (data['Medical Coverage?'].isna()) , 'Medical Coverage?'] = 'Yes'"
      ],
      "metadata": {
        "id": "6QGWQahMc--j"
      },
      "execution_count": null,
      "outputs": []
    },
    {
      "cell_type": "code",
      "source": [
        "data['Medical Coverage?'].isna().sum()"
      ],
      "metadata": {
        "colab": {
          "base_uri": "https://localhost:8080/"
        },
        "id": "TMh74gQwdAcj",
        "outputId": "e8f1b762-8b41-4b7b-e82f-090140738b6d"
      },
      "execution_count": null,
      "outputs": [
        {
          "output_type": "execute_result",
          "data": {
            "text/plain": [
              "338"
            ]
          },
          "metadata": {},
          "execution_count": 44
        }
      ]
    },
    {
      "cell_type": "code",
      "source": [
        "data['Live Country'].value_counts()"
      ],
      "metadata": {
        "colab": {
          "base_uri": "https://localhost:8080/"
        },
        "id": "iXi-dkHddBgz",
        "outputId": "c1566ec3-134d-4796-c5a1-643a4e2195f0"
      },
      "execution_count": null,
      "outputs": [
        {
          "output_type": "execute_result",
          "data": {
            "text/plain": [
              "United States of America    826\n",
              "United Kingdom              180\n",
              "Canada                       78\n",
              "Germany                      57\n",
              "Netherlands                  48\n",
              "Australia                    35\n",
              "Sweden                       19\n",
              "France                       16\n",
              "Ireland                      15\n",
              "Switzerland                  10\n",
              "Brazil                       10\n",
              "New Zealand                   9\n",
              "India                         9\n",
              "Russia                        9\n",
              "Bulgaria                      7\n",
              "Finland                       7\n",
              "Denmark                       7\n",
              "Italy                         5\n",
              "Belgium                       5\n",
              "South Africa                  4\n",
              "Romania                       4\n",
              "Spain                         4\n",
              "Poland                        4\n",
              "Austria                       4\n",
              "Norway                        3\n",
              "Pakistan                      3\n",
              "Chile                         3\n",
              "Czech Republic                3\n",
              "Japan                         2\n",
              "Israel                        2\n",
              "Other                         2\n",
              "Bosnia and Herzegovina        2\n",
              "Afghanistan                   2\n",
              "Estonia                       2\n",
              "Mexico                        2\n",
              "Colombia                      2\n",
              "Lithuania                     2\n",
              "Algeria                       1\n",
              "Serbia                        1\n",
              "Taiwan                        1\n",
              "Guatemala                     1\n",
              "China                         1\n",
              "Venezuela                     1\n",
              "Ecuador                       1\n",
              "Hungary                       1\n",
              "Bangladesh                    1\n",
              "Iran                          1\n",
              "Argentina                     1\n",
              "Brunei                        1\n",
              "Vietnam                       1\n",
              "Greece                        1\n",
              "Slovakia                      1\n",
              "Costa Rica                    1\n",
              "Name: Live Country, dtype: int64"
            ]
          },
          "metadata": {},
          "execution_count": 45
        }
      ]
    },
    {
      "cell_type": "code",
      "source": [
        "data.loc[(data['Live Country']=='Germany') | (data['Live Country']=='France') | (data['Live Country']=='Canada') |\n",
        "         (data['Live Country']=='Spain') | (data['Live Country']=='Netherlands')\n",
        "         , 'Medical Coverage?'] = 'Yes'"
      ],
      "metadata": {
        "id": "vJFAJPG8dCnD"
      },
      "execution_count": null,
      "outputs": []
    },
    {
      "cell_type": "code",
      "source": [
        "data['Medical Coverage?'].isna().sum()"
      ],
      "metadata": {
        "colab": {
          "base_uri": "https://localhost:8080/"
        },
        "id": "GUYf6hz1dEZi",
        "outputId": "401c137c-3401-4186-b4a7-3dc0dad0e5b4"
      },
      "execution_count": null,
      "outputs": [
        {
          "output_type": "execute_result",
          "data": {
            "text/plain": [
              "188"
            ]
          },
          "metadata": {},
          "execution_count": 47
        }
      ]
    },
    {
      "cell_type": "code",
      "source": [
        "data['Self-employed?'] = data['Self-employed?'].replace({1 : 'Yes' , 0 : 'No'})"
      ],
      "metadata": {
        "id": "MRgjiyURdGAC"
      },
      "execution_count": null,
      "outputs": []
    },
    {
      "cell_type": "code",
      "source": [
        "data['Tech company?'] = data['Tech company?'].replace({1.0 : 'Yes' , 0.0 : 'No'})"
      ],
      "metadata": {
        "id": "AVscLqI1dKI6"
      },
      "execution_count": null,
      "outputs": []
    },
    {
      "cell_type": "code",
      "source": [
        "data['Sought help?'] = data['Sought help?'].replace({1 : 'Yes' , 0 : 'No'})"
      ],
      "metadata": {
        "id": "3BnuvRKDdLp6"
      },
      "execution_count": null,
      "outputs": []
    },
    {
      "cell_type": "code",
      "source": [
        "data['Age'].describe()"
      ],
      "metadata": {
        "colab": {
          "base_uri": "https://localhost:8080/"
        },
        "id": "h0ub-W6GdM-6",
        "outputId": "dade2f65-c74f-450b-c14d-a99602b1c83c"
      },
      "execution_count": null,
      "outputs": [
        {
          "output_type": "execute_result",
          "data": {
            "text/plain": [
              "count    1418.000000\n",
              "mean       34.254584\n",
              "std        11.251193\n",
              "min         3.000000\n",
              "25%        28.000000\n",
              "50%        33.000000\n",
              "75%        39.000000\n",
              "max       323.000000\n",
              "Name: Age, dtype: float64"
            ]
          },
          "metadata": {},
          "execution_count": 51
        }
      ]
    },
    {
      "cell_type": "code",
      "source": [
        "data.loc[data['Age'] == 323]"
      ],
      "metadata": {
        "colab": {
          "base_uri": "https://localhost:8080/",
          "height": 159
        },
        "id": "50SySBnVdPZD",
        "outputId": "7569e7ba-5ac9-4c7e-a244-691550dd8cf9"
      },
      "execution_count": null,
      "outputs": [
        {
          "output_type": "execute_result",
          "data": {
            "text/plain": [
              "    Self-employed? Num. Employees Tech company? M-H benefits?  \\\n",
              "564             No        100-500           Yes           Yes   \n",
              "\n",
              "    Workplace Discussion? Medical Coverage? Current illness  \\\n",
              "564          I don't know               Yes              No   \n",
              "\n",
              "    Previously diagnosed? Sought help? Illness history?  Age Gender  \\\n",
              "564                    No           No              Yes  323      M   \n",
              "\n",
              "                 Live Country              Work Country  \n",
              "564  United States of America  United States of America  "
            ],
            "text/html": [
              "\n",
              "\n",
              "  <div id=\"df-a5864da1-c8d9-45ec-8a6a-d73bdd3b67bc\">\n",
              "    <div class=\"colab-df-container\">\n",
              "      <div>\n",
              "<style scoped>\n",
              "    .dataframe tbody tr th:only-of-type {\n",
              "        vertical-align: middle;\n",
              "    }\n",
              "\n",
              "    .dataframe tbody tr th {\n",
              "        vertical-align: top;\n",
              "    }\n",
              "\n",
              "    .dataframe thead th {\n",
              "        text-align: right;\n",
              "    }\n",
              "</style>\n",
              "<table border=\"1\" class=\"dataframe\">\n",
              "  <thead>\n",
              "    <tr style=\"text-align: right;\">\n",
              "      <th></th>\n",
              "      <th>Self-employed?</th>\n",
              "      <th>Num. Employees</th>\n",
              "      <th>Tech company?</th>\n",
              "      <th>M-H benefits?</th>\n",
              "      <th>Workplace Discussion?</th>\n",
              "      <th>Medical Coverage?</th>\n",
              "      <th>Current illness</th>\n",
              "      <th>Previously diagnosed?</th>\n",
              "      <th>Sought help?</th>\n",
              "      <th>Illness history?</th>\n",
              "      <th>Age</th>\n",
              "      <th>Gender</th>\n",
              "      <th>Live Country</th>\n",
              "      <th>Work Country</th>\n",
              "    </tr>\n",
              "  </thead>\n",
              "  <tbody>\n",
              "    <tr>\n",
              "      <th>564</th>\n",
              "      <td>No</td>\n",
              "      <td>100-500</td>\n",
              "      <td>Yes</td>\n",
              "      <td>Yes</td>\n",
              "      <td>I don't know</td>\n",
              "      <td>Yes</td>\n",
              "      <td>No</td>\n",
              "      <td>No</td>\n",
              "      <td>No</td>\n",
              "      <td>Yes</td>\n",
              "      <td>323</td>\n",
              "      <td>M</td>\n",
              "      <td>United States of America</td>\n",
              "      <td>United States of America</td>\n",
              "    </tr>\n",
              "  </tbody>\n",
              "</table>\n",
              "</div>\n",
              "      <button class=\"colab-df-convert\" onclick=\"convertToInteractive('df-a5864da1-c8d9-45ec-8a6a-d73bdd3b67bc')\"\n",
              "              title=\"Convert this dataframe to an interactive table.\"\n",
              "              style=\"display:none;\">\n",
              "\n",
              "  <svg xmlns=\"http://www.w3.org/2000/svg\" height=\"24px\"viewBox=\"0 0 24 24\"\n",
              "       width=\"24px\">\n",
              "    <path d=\"M0 0h24v24H0V0z\" fill=\"none\"/>\n",
              "    <path d=\"M18.56 5.44l.94 2.06.94-2.06 2.06-.94-2.06-.94-.94-2.06-.94 2.06-2.06.94zm-11 1L8.5 8.5l.94-2.06 2.06-.94-2.06-.94L8.5 2.5l-.94 2.06-2.06.94zm10 10l.94 2.06.94-2.06 2.06-.94-2.06-.94-.94-2.06-.94 2.06-2.06.94z\"/><path d=\"M17.41 7.96l-1.37-1.37c-.4-.4-.92-.59-1.43-.59-.52 0-1.04.2-1.43.59L10.3 9.45l-7.72 7.72c-.78.78-.78 2.05 0 2.83L4 21.41c.39.39.9.59 1.41.59.51 0 1.02-.2 1.41-.59l7.78-7.78 2.81-2.81c.8-.78.8-2.07 0-2.86zM5.41 20L4 18.59l7.72-7.72 1.47 1.35L5.41 20z\"/>\n",
              "  </svg>\n",
              "      </button>\n",
              "\n",
              "\n",
              "\n",
              "    <div id=\"df-881c217a-a80a-4bae-8e42-e8a19c32b227\">\n",
              "      <button class=\"colab-df-quickchart\" onclick=\"quickchart('df-881c217a-a80a-4bae-8e42-e8a19c32b227')\"\n",
              "              title=\"Suggest charts.\"\n",
              "              style=\"display:none;\">\n",
              "\n",
              "<svg xmlns=\"http://www.w3.org/2000/svg\" height=\"24px\"viewBox=\"0 0 24 24\"\n",
              "     width=\"24px\">\n",
              "    <g>\n",
              "        <path d=\"M19 3H5c-1.1 0-2 .9-2 2v14c0 1.1.9 2 2 2h14c1.1 0 2-.9 2-2V5c0-1.1-.9-2-2-2zM9 17H7v-7h2v7zm4 0h-2V7h2v10zm4 0h-2v-4h2v4z\"/>\n",
              "    </g>\n",
              "</svg>\n",
              "      </button>\n",
              "    </div>\n",
              "\n",
              "<style>\n",
              "  .colab-df-quickchart {\n",
              "    background-color: #E8F0FE;\n",
              "    border: none;\n",
              "    border-radius: 50%;\n",
              "    cursor: pointer;\n",
              "    display: none;\n",
              "    fill: #1967D2;\n",
              "    height: 32px;\n",
              "    padding: 0 0 0 0;\n",
              "    width: 32px;\n",
              "  }\n",
              "\n",
              "  .colab-df-quickchart:hover {\n",
              "    background-color: #E2EBFA;\n",
              "    box-shadow: 0px 1px 2px rgba(60, 64, 67, 0.3), 0px 1px 3px 1px rgba(60, 64, 67, 0.15);\n",
              "    fill: #174EA6;\n",
              "  }\n",
              "\n",
              "  [theme=dark] .colab-df-quickchart {\n",
              "    background-color: #3B4455;\n",
              "    fill: #D2E3FC;\n",
              "  }\n",
              "\n",
              "  [theme=dark] .colab-df-quickchart:hover {\n",
              "    background-color: #434B5C;\n",
              "    box-shadow: 0px 1px 3px 1px rgba(0, 0, 0, 0.15);\n",
              "    filter: drop-shadow(0px 1px 2px rgba(0, 0, 0, 0.3));\n",
              "    fill: #FFFFFF;\n",
              "  }\n",
              "</style>\n",
              "\n",
              "    <script>\n",
              "      async function quickchart(key) {\n",
              "        const containerElement = document.querySelector('#' + key);\n",
              "        const charts = await google.colab.kernel.invokeFunction(\n",
              "            'suggestCharts', [key], {});\n",
              "      }\n",
              "    </script>\n",
              "\n",
              "      <script>\n",
              "\n",
              "function displayQuickchartButton(domScope) {\n",
              "  let quickchartButtonEl =\n",
              "    domScope.querySelector('#df-881c217a-a80a-4bae-8e42-e8a19c32b227 button.colab-df-quickchart');\n",
              "  quickchartButtonEl.style.display =\n",
              "    google.colab.kernel.accessAllowed ? 'block' : 'none';\n",
              "}\n",
              "\n",
              "        displayQuickchartButton(document);\n",
              "      </script>\n",
              "      <style>\n",
              "    .colab-df-container {\n",
              "      display:flex;\n",
              "      flex-wrap:wrap;\n",
              "      gap: 12px;\n",
              "    }\n",
              "\n",
              "    .colab-df-convert {\n",
              "      background-color: #E8F0FE;\n",
              "      border: none;\n",
              "      border-radius: 50%;\n",
              "      cursor: pointer;\n",
              "      display: none;\n",
              "      fill: #1967D2;\n",
              "      height: 32px;\n",
              "      padding: 0 0 0 0;\n",
              "      width: 32px;\n",
              "    }\n",
              "\n",
              "    .colab-df-convert:hover {\n",
              "      background-color: #E2EBFA;\n",
              "      box-shadow: 0px 1px 2px rgba(60, 64, 67, 0.3), 0px 1px 3px 1px rgba(60, 64, 67, 0.15);\n",
              "      fill: #174EA6;\n",
              "    }\n",
              "\n",
              "    [theme=dark] .colab-df-convert {\n",
              "      background-color: #3B4455;\n",
              "      fill: #D2E3FC;\n",
              "    }\n",
              "\n",
              "    [theme=dark] .colab-df-convert:hover {\n",
              "      background-color: #434B5C;\n",
              "      box-shadow: 0px 1px 3px 1px rgba(0, 0, 0, 0.15);\n",
              "      filter: drop-shadow(0px 1px 2px rgba(0, 0, 0, 0.3));\n",
              "      fill: #FFFFFF;\n",
              "    }\n",
              "  </style>\n",
              "\n",
              "      <script>\n",
              "        const buttonEl =\n",
              "          document.querySelector('#df-a5864da1-c8d9-45ec-8a6a-d73bdd3b67bc button.colab-df-convert');\n",
              "        buttonEl.style.display =\n",
              "          google.colab.kernel.accessAllowed ? 'block' : 'none';\n",
              "\n",
              "        async function convertToInteractive(key) {\n",
              "          const element = document.querySelector('#df-a5864da1-c8d9-45ec-8a6a-d73bdd3b67bc');\n",
              "          const dataTable =\n",
              "            await google.colab.kernel.invokeFunction('convertToInteractive',\n",
              "                                                     [key], {});\n",
              "          if (!dataTable) return;\n",
              "\n",
              "          const docLinkHtml = 'Like what you see? Visit the ' +\n",
              "            '<a target=\"_blank\" href=https://colab.research.google.com/notebooks/data_table.ipynb>data table notebook</a>'\n",
              "            + ' to learn more about interactive tables.';\n",
              "          element.innerHTML = '';\n",
              "          dataTable['output_type'] = 'display_data';\n",
              "          await google.colab.output.renderOutput(dataTable, element);\n",
              "          const docLink = document.createElement('div');\n",
              "          docLink.innerHTML = docLinkHtml;\n",
              "          element.appendChild(docLink);\n",
              "        }\n",
              "      </script>\n",
              "    </div>\n",
              "  </div>\n"
            ]
          },
          "metadata": {},
          "execution_count": 53
        }
      ]
    },
    {
      "cell_type": "code",
      "source": [
        "data = data.drop(data[data['Age']==323].index)"
      ],
      "metadata": {
        "id": "hJExIThmdWRT"
      },
      "execution_count": null,
      "outputs": []
    },
    {
      "cell_type": "code",
      "source": [
        "data['Age'].describe()"
      ],
      "metadata": {
        "colab": {
          "base_uri": "https://localhost:8080/"
        },
        "id": "yr1yE-1PdbYr",
        "outputId": "993ce5eb-9cb0-4877-fec6-a7ccba309de2"
      },
      "execution_count": null,
      "outputs": [
        {
          "output_type": "execute_result",
          "data": {
            "text/plain": [
              "count    1417.000000\n",
              "mean       34.050812\n",
              "std         8.231482\n",
              "min         3.000000\n",
              "25%        28.000000\n",
              "50%        33.000000\n",
              "75%        39.000000\n",
              "max        99.000000\n",
              "Name: Age, dtype: float64"
            ]
          },
          "metadata": {},
          "execution_count": 55
        }
      ]
    },
    {
      "cell_type": "code",
      "source": [
        "data = data.drop(data[data['Age']==99].index)"
      ],
      "metadata": {
        "id": "k6V-oxhvdc0z"
      },
      "execution_count": null,
      "outputs": []
    },
    {
      "cell_type": "code",
      "source": [
        "data['Age'].describe()"
      ],
      "metadata": {
        "colab": {
          "base_uri": "https://localhost:8080/"
        },
        "id": "E_ZAsfwrdiya",
        "outputId": "547a3820-030f-4518-e479-33d5c273ca2a"
      },
      "execution_count": null,
      "outputs": [
        {
          "output_type": "execute_result",
          "data": {
            "text/plain": [
              "count    1416.000000\n",
              "mean       34.004944\n",
              "std         8.051204\n",
              "min         3.000000\n",
              "25%        28.000000\n",
              "50%        33.000000\n",
              "75%        38.250000\n",
              "max        70.000000\n",
              "Name: Age, dtype: float64"
            ]
          },
          "metadata": {},
          "execution_count": 57
        }
      ]
    },
    {
      "cell_type": "code",
      "source": [
        "age_min = data['Age'].min()\n",
        "age_max = data['Age'].max()\n",
        "\n",
        "bins = np.linspace(age_min, age_max, 10)\n",
        "labels = ['G1','G2','G3','G4','G5','G6','G7','G8','G9']\n",
        "bins"
      ],
      "metadata": {
        "colab": {
          "base_uri": "https://localhost:8080/"
        },
        "id": "YcwFpM3sdkYD",
        "outputId": "17a39073-469a-40b8-dc9f-0b9943635541"
      },
      "execution_count": null,
      "outputs": [
        {
          "output_type": "execute_result",
          "data": {
            "text/plain": [
              "array([ 3.        , 10.44444444, 17.88888889, 25.33333333, 32.77777778,\n",
              "       40.22222222, 47.66666667, 55.11111111, 62.55555556, 70.        ])"
            ]
          },
          "metadata": {},
          "execution_count": 58
        }
      ]
    },
    {
      "cell_type": "code",
      "source": [
        "data['Age'] = pd.cut(x=data['Age'], bins=bins, labels=labels, include_lowest=True)"
      ],
      "metadata": {
        "id": "PAefqv4Adl96"
      },
      "execution_count": null,
      "outputs": []
    },
    {
      "cell_type": "code",
      "source": [
        "column_names = list(data.columns)"
      ],
      "metadata": {
        "id": "7HhRONJudoha"
      },
      "execution_count": null,
      "outputs": []
    },
    {
      "cell_type": "code",
      "source": [
        "for col in column_names:\n",
        "    data[col] = data[col].astype('category')"
      ],
      "metadata": {
        "id": "amz9LeZNdqMS"
      },
      "execution_count": null,
      "outputs": []
    },
    {
      "cell_type": "code",
      "source": [
        "data.info()"
      ],
      "metadata": {
        "colab": {
          "base_uri": "https://localhost:8080/"
        },
        "id": "RWVPSQk_drZz",
        "outputId": "8152cf36-e587-4df7-b714-5be584c17475"
      },
      "execution_count": null,
      "outputs": [
        {
          "output_type": "stream",
          "name": "stdout",
          "text": [
            "<class 'pandas.core.frame.DataFrame'>\n",
            "Int64Index: 1416 entries, 0 to 1432\n",
            "Data columns (total 14 columns):\n",
            " #   Column                 Non-Null Count  Dtype   \n",
            "---  ------                 --------------  -----   \n",
            " 0   Self-employed?         1416 non-null   category\n",
            " 1   Num. Employees         1129 non-null   category\n",
            " 2   Tech company?          1129 non-null   category\n",
            " 3   M-H benefits?          1129 non-null   category\n",
            " 4   Workplace Discussion?  1129 non-null   category\n",
            " 5   Medical Coverage?      1228 non-null   category\n",
            " 6   Current illness        1416 non-null   category\n",
            " 7   Previously diagnosed?  1416 non-null   category\n",
            " 8   Sought help?           1416 non-null   category\n",
            " 9   Illness history?       1416 non-null   category\n",
            " 10  Age                    1416 non-null   category\n",
            " 11  Gender                 1416 non-null   category\n",
            " 12  Live Country           1416 non-null   category\n",
            " 13  Work Country           1416 non-null   category\n",
            "dtypes: category(14)\n",
            "memory usage: 37.2 KB\n"
          ]
        }
      ]
    },
    {
      "cell_type": "code",
      "source": [
        "column_mean = 'More than 1000'\n",
        "\n",
        "# Replace NaN values with the mean\n",
        "data['Num. Employees'] = data['Num. Employees'].fillna(column_mean)\n",
        "\n",
        "#print(df)"
      ],
      "metadata": {
        "id": "9Xi2cQcpdt7i"
      },
      "execution_count": null,
      "outputs": []
    },
    {
      "cell_type": "code",
      "source": [
        "data['Num. Employees'].value_counts()\n"
      ],
      "metadata": {
        "colab": {
          "base_uri": "https://localhost:8080/"
        },
        "id": "3upp7FqJeX5T",
        "outputId": "8f4c8b43-4bb5-4b1b-b1f1-afa3b8f52173"
      },
      "execution_count": null,
      "outputs": [
        {
          "output_type": "execute_result",
          "data": {
            "text/plain": [
              "More than 1000    538\n",
              "26-100            291\n",
              "100-500           244\n",
              "6-25              205\n",
              "500-1000           79\n",
              "1-5                59\n",
              "Name: Num. Employees, dtype: int64"
            ]
          },
          "metadata": {},
          "execution_count": 67
        }
      ]
    },
    {
      "cell_type": "code",
      "source": [
        "a = 100 * (data.isna().sum()) / len(data)\n",
        "print( 'Percentage of missing values for each column is\\n')\n",
        "a"
      ],
      "metadata": {
        "colab": {
          "base_uri": "https://localhost:8080/"
        },
        "id": "a_TGBPcRekIi",
        "outputId": "59e059cf-e543-420d-8c83-526a22ae63b9"
      },
      "execution_count": null,
      "outputs": [
        {
          "output_type": "stream",
          "name": "stdout",
          "text": [
            "Percentage of missing values for each column is\n",
            "\n"
          ]
        },
        {
          "output_type": "execute_result",
          "data": {
            "text/plain": [
              "Self-employed?            0.000000\n",
              "Num. Employees            0.000000\n",
              "Tech company?             0.000000\n",
              "M-H benefits?             0.000000\n",
              "Workplace Discussion?     0.000000\n",
              "Medical Coverage?        13.276836\n",
              "Current illness           0.000000\n",
              "Previously diagnosed?     0.000000\n",
              "Sought help?              0.000000\n",
              "Illness history?          0.000000\n",
              "Age                       0.000000\n",
              "Gender                    0.000000\n",
              "Live Country              0.000000\n",
              "Work Country              0.000000\n",
              "dtype: float64"
            ]
          },
          "metadata": {},
          "execution_count": 77
        }
      ]
    },
    {
      "cell_type": "code",
      "source": [
        "data['Tech company?'].value_counts()"
      ],
      "metadata": {
        "colab": {
          "base_uri": "https://localhost:8080/"
        },
        "id": "_ww5tvmhe1BS",
        "outputId": "a608a598-6de9-4680-cb70-80d50d2e4c72"
      },
      "execution_count": null,
      "outputs": [
        {
          "output_type": "execute_result",
          "data": {
            "text/plain": [
              "Yes    881\n",
              "No     248\n",
              "Name: Tech company?, dtype: int64"
            ]
          },
          "metadata": {},
          "execution_count": 69
        }
      ]
    },
    {
      "cell_type": "code",
      "source": [
        "column_mean = 'Yes'\n",
        "\n",
        "# Replace NaN values with the mean\n",
        "data['Tech company?'] = data['Tech company?'].fillna(column_mean)"
      ],
      "metadata": {
        "id": "yQi_wE28e8lL"
      },
      "execution_count": null,
      "outputs": []
    },
    {
      "cell_type": "code",
      "source": [
        "data['M-H benefits?'].value_counts()"
      ],
      "metadata": {
        "colab": {
          "base_uri": "https://localhost:8080/"
        },
        "id": "fmPrj9CbfGx0",
        "outputId": "23957484-a36f-4a37-a07a-566a6f2bd3b4"
      },
      "execution_count": null,
      "outputs": [
        {
          "output_type": "execute_result",
          "data": {
            "text/plain": [
              "Yes             522\n",
              "I don't know    316\n",
              "No              291\n",
              "Name: M-H benefits?, dtype: int64"
            ]
          },
          "metadata": {},
          "execution_count": 72
        }
      ]
    },
    {
      "cell_type": "code",
      "source": [
        "column_mean = 'Yes'\n",
        "\n",
        "# Replace NaN values with the mean\n",
        "data['M-H benefits?'] = data['M-H benefits?'].fillna(column_mean)"
      ],
      "metadata": {
        "id": "ibcgG0sVfSob"
      },
      "execution_count": null,
      "outputs": []
    },
    {
      "cell_type": "code",
      "source": [
        "data['Workplace Discussion?'].value_counts()"
      ],
      "metadata": {
        "colab": {
          "base_uri": "https://localhost:8080/"
        },
        "id": "Sda3XugZfYxq",
        "outputId": "e8bd8504-1e5d-40b8-9736-112bca3c7bc8"
      },
      "execution_count": null,
      "outputs": [
        {
          "output_type": "execute_result",
          "data": {
            "text/plain": [
              "No              805\n",
              "Yes             223\n",
              "I don't know    101\n",
              "Name: Workplace Discussion?, dtype: int64"
            ]
          },
          "metadata": {},
          "execution_count": 75
        }
      ]
    },
    {
      "cell_type": "code",
      "source": [
        "column_mean = 'No'\n",
        "\n",
        "# Replace NaN values with the mean\n",
        "data['Workplace Discussion?'] = data['Workplace Discussion?'].fillna(column_mean)"
      ],
      "metadata": {
        "id": "1QnzUbOnfk2r"
      },
      "execution_count": null,
      "outputs": []
    },
    {
      "cell_type": "code",
      "source": [
        "data.info()"
      ],
      "metadata": {
        "colab": {
          "base_uri": "https://localhost:8080/"
        },
        "id": "vmSP2VbSfuzr",
        "outputId": "06617df0-1d66-44f8-b00a-e620a8d1cbd9"
      },
      "execution_count": null,
      "outputs": [
        {
          "output_type": "stream",
          "name": "stdout",
          "text": [
            "<class 'pandas.core.frame.DataFrame'>\n",
            "Int64Index: 1416 entries, 0 to 1432\n",
            "Data columns (total 14 columns):\n",
            " #   Column                 Non-Null Count  Dtype   \n",
            "---  ------                 --------------  -----   \n",
            " 0   Self-employed?         1416 non-null   category\n",
            " 1   Num. Employees         1416 non-null   category\n",
            " 2   Tech company?          1416 non-null   category\n",
            " 3   M-H benefits?          1416 non-null   category\n",
            " 4   Workplace Discussion?  1416 non-null   category\n",
            " 5   Medical Coverage?      1228 non-null   category\n",
            " 6   Current illness        1416 non-null   category\n",
            " 7   Previously diagnosed?  1416 non-null   category\n",
            " 8   Sought help?           1416 non-null   category\n",
            " 9   Illness history?       1416 non-null   category\n",
            " 10  Age                    1416 non-null   category\n",
            " 11  Gender                 1416 non-null   category\n",
            " 12  Live Country           1416 non-null   category\n",
            " 13  Work Country           1416 non-null   category\n",
            "dtypes: category(14)\n",
            "memory usage: 37.2 KB\n"
          ]
        }
      ]
    },
    {
      "cell_type": "code",
      "source": [
        "data.nunique()"
      ],
      "metadata": {
        "colab": {
          "base_uri": "https://localhost:8080/"
        },
        "id": "26HHcv1lf0yq",
        "outputId": "a3e9fecc-6975-4cfa-c679-088065b99c5d"
      },
      "execution_count": null,
      "outputs": [
        {
          "output_type": "execute_result",
          "data": {
            "text/plain": [
              "Self-employed?            2\n",
              "Num. Employees            6\n",
              "Tech company?             2\n",
              "M-H benefits?             3\n",
              "Workplace Discussion?     3\n",
              "Medical Coverage?         2\n",
              "Current illness           3\n",
              "Previously diagnosed?     2\n",
              "Sought help?              2\n",
              "Illness history?          3\n",
              "Age                       9\n",
              "Gender                    3\n",
              "Live Country             53\n",
              "Work Country             53\n",
              "dtype: int64"
            ]
          },
          "metadata": {},
          "execution_count": 79
        }
      ]
    },
    {
      "cell_type": "code",
      "source": [
        "data['Self-employed?'].unique()"
      ],
      "metadata": {
        "colab": {
          "base_uri": "https://localhost:8080/"
        },
        "id": "DTNChSwlf52S",
        "outputId": "0ad81cd7-6c17-4054-8e39-d667520af1f4"
      },
      "execution_count": null,
      "outputs": [
        {
          "output_type": "execute_result",
          "data": {
            "text/plain": [
              "['No', 'Yes']\n",
              "Categories (2, object): ['No', 'Yes']"
            ]
          },
          "metadata": {},
          "execution_count": 80
        }
      ]
    },
    {
      "cell_type": "code",
      "source": [
        "data['Self-employed?'].value_counts()"
      ],
      "metadata": {
        "colab": {
          "base_uri": "https://localhost:8080/"
        },
        "id": "vfpYHKb1f7ei",
        "outputId": "f470dcc3-7284-45a7-c85f-ca00010dc1db"
      },
      "execution_count": null,
      "outputs": [
        {
          "output_type": "execute_result",
          "data": {
            "text/plain": [
              "No     1129\n",
              "Yes     287\n",
              "Name: Self-employed?, dtype: int64"
            ]
          },
          "metadata": {},
          "execution_count": 81
        }
      ]
    },
    {
      "cell_type": "code",
      "source": [
        "data.drop(columns='Self-employed?', inplace=True)"
      ],
      "metadata": {
        "id": "rIJ8yIr3gEaC"
      },
      "execution_count": null,
      "outputs": []
    },
    {
      "cell_type": "code",
      "source": [
        "data['Age'].value_counts().plot(kind='bar',xlabel='Age groups',ylabel='Number of individuals',\n",
        "                                title='Distribution of different age groups', yticks=np.linspace(0,90,5))"
      ],
      "metadata": {
        "colab": {
          "base_uri": "https://localhost:8080/",
          "height": 494
        },
        "id": "LcMreYgyhqVD",
        "outputId": "b0111d83-1f7b-4660-f3fb-6827c0b91f7e"
      },
      "execution_count": null,
      "outputs": [
        {
          "output_type": "execute_result",
          "data": {
            "text/plain": [
              "<Axes: title={'center': 'Distribution of different age groups'}, xlabel='Age groups', ylabel='Number of individuals'>"
            ]
          },
          "metadata": {},
          "execution_count": 86
        },
        {
          "output_type": "display_data",
          "data": {
            "text/plain": [
              "<Figure size 640x480 with 1 Axes>"
            ],
            "image/png": "[encoded data removed]"
          },
          "metadata": {}
        }
      ]
    },
    {
      "cell_type": "code",
      "source": [
        "data2 = pd.get_dummies(data, drop_first=True)"
      ],
      "metadata": {
        "id": "NU9VptUMhr7r"
      },
      "execution_count": null,
      "outputs": []
    },
    {
      "cell_type": "code",
      "source": [
        "print(data2.shape)\n",
        "data2.columns"
      ],
      "metadata": {
        "colab": {
          "base_uri": "https://localhost:8080/"
        },
        "id": "BxK0W34biAKi",
        "outputId": "ebc03925-3bda-4c58-c971-e5d82e20fc1d"
      },
      "execution_count": null,
      "outputs": [
        {
          "output_type": "stream",
          "name": "stdout",
          "text": [
            "(1416, 131)\n"
          ]
        },
        {
          "output_type": "execute_result",
          "data": {
            "text/plain": [
              "Index(['Num. Employees_100-500', 'Num. Employees_26-100',\n",
              "       'Num. Employees_500-1000', 'Num. Employees_6-25',\n",
              "       'Num. Employees_More than 1000', 'Tech company?_Yes',\n",
              "       'M-H benefits?_No', 'M-H benefits?_Yes', 'Workplace Discussion?_No',\n",
              "       'Workplace Discussion?_Yes',\n",
              "       ...\n",
              "       'Work Country_South Africa', 'Work Country_Spain',\n",
              "       'Work Country_Sweden', 'Work Country_Switzerland',\n",
              "       'Work Country_Turkey', 'Work Country_United Arab Emirates',\n",
              "       'Work Country_United Kingdom', 'Work Country_United States of America',\n",
              "       'Work Country_Venezuela', 'Work Country_Vietnam'],\n",
              "      dtype='object', length=131)"
            ]
          },
          "metadata": {},
          "execution_count": 88
        }
      ]
    },
    {
      "cell_type": "code",
      "source": [
        "X = data2.drop('Current illness_Yes', axis=1)\n",
        "y = data2['Current illness_Yes']"
      ],
      "metadata": {
        "id": "Q7sQ-yFLiCBK"
      },
      "execution_count": null,
      "outputs": []
    },
    {
      "cell_type": "code",
      "source": [
        "#Categorical feature selection\n",
        "sf = SelectKBest(chi2, k='all')\n",
        "sf_fit = sf.fit(X, y)\n",
        "\n",
        "#Print feature scores\n",
        "for i in range(len(sf_fit.scores_)):\n",
        "    print(' %s: %f' % (X.columns[i], sf_fit.scores_[i]))"
      ],
      "metadata": {
        "colab": {
          "base_uri": "https://localhost:8080/"
        },
        "id": "HsaPn-0JiDuC",
        "outputId": "67a0accb-78e0-4a32-f2c9-7237fd4fecd8"
      },
      "execution_count": null,
      "outputs": [
        {
          "output_type": "stream",
          "name": "stdout",
          "text": [
            " Num. Employees_100-500: 0.021565\n",
            " Num. Employees_26-100: 1.229589\n",
            " Num. Employees_500-1000: 3.115480\n",
            " Num. Employees_6-25: 3.555132\n",
            " Num. Employees_More than 1000: 2.028644\n",
            " Tech company?_Yes: 0.021924\n",
            " M-H benefits?_No: 2.696220\n",
            " M-H benefits?_Yes: 15.275719\n",
            " Workplace Discussion?_No: 0.378626\n",
            " Workplace Discussion?_Yes: 0.039355\n",
            " Medical Coverage?_Yes: 1.801758\n",
            " Current illness_No: 350.981132\n",
            " Previously diagnosed?_Yes: 285.721322\n",
            " Sought help?_Yes: 159.018421\n",
            " Illness history?_No: 86.260489\n",
            " Illness history?_Yes: 87.470767\n",
            " Age_G2: 1.339623\n",
            " Age_G3: 0.333894\n",
            " Age_G4: 0.000293\n",
            " Age_G5: 0.014658\n",
            " Age_G6: 0.846665\n",
            " Age_G7: 0.181903\n",
            " Age_G8: 1.091337\n",
            " Age_G9: 2.857598\n",
            " Gender_M: 11.268628\n",
            " Gender_O: 8.670048\n",
            " Live Country_Algeria: 1.492958\n",
            " Live Country_Argentina: 0.669811\n",
            " Live Country_Australia: 0.457116\n",
            " Live Country_Austria: 0.380315\n",
            " Live Country_Bangladesh: 1.492958\n",
            " Live Country_Belgium: 0.000027\n",
            " Live Country_Bosnia and Herzegovina: 1.339623\n",
            " Live Country_Brazil: 0.000053\n",
            " Live Country_Brunei: 0.669811\n",
            " Live Country_Bulgaria: 0.388159\n",
            " Live Country_Canada: 2.834788\n",
            " Live Country_Chile: 0.057401\n",
            " Live Country_China: 0.669811\n",
            " Live Country_Colombia: 1.339623\n",
            " Live Country_Costa Rica: 0.669811\n",
            " Live Country_Czech Republic: 2.009434\n",
            " Live Country_Denmark: 0.388159\n",
            " Live Country_Ecuador: 1.492958\n",
            " Live Country_Estonia: 1.339623\n",
            " Live Country_Finland: 1.943738\n",
            " Live Country_France: 3.039671\n",
            " Live Country_Germany: 14.038155\n",
            " Live Country_Greece: 0.669811\n",
            " Live Country_Guatemala: 1.492958\n",
            " Live Country_Hungary: 0.669811\n",
            " Live Country_India: 1.199176\n",
            " Live Country_Iran: 0.669811\n",
            " Live Country_Ireland: 0.000080\n",
            " Live Country_Israel: 1.339623\n",
            " Live Country_Italy: 3.349057\n",
            " Live Country_Japan: 1.339623\n",
            " Live Country_Lithuania: 0.081385\n",
            " Live Country_Mexico: 1.339623\n",
            " Live Country_Netherlands: 0.653833\n",
            " Live Country_New Zealand: 0.172203\n",
            " Live Country_Norway: 0.057401\n",
            " Live Country_Other: 0.081385\n",
            " Live Country_Pakistan: 0.057401\n",
            " Live Country_Poland: 2.679245\n",
            " Live Country_Romania: 0.380315\n",
            " Live Country_Russia: 3.151209\n",
            " Live Country_Serbia: 0.669811\n",
            " Live Country_Slovakia: 0.669811\n",
            " Live Country_South Africa: 2.679245\n",
            " Live Country_Spain: 2.679245\n",
            " Live Country_Sweden: 2.873414\n",
            " Live Country_Switzerland: 0.425737\n",
            " Live Country_Taiwan: 1.492958\n",
            " Live Country_United Kingdom: 1.958869\n",
            " Live Country_United States of America: 16.109207\n",
            " Live Country_Venezuela: 0.669811\n",
            " Live Country_Vietnam: 0.669811\n",
            " Work Country_Argentina: 0.669811\n",
            " Work Country_Australia: 0.682825\n",
            " Work Country_Austria: 0.380315\n",
            " Work Country_Bangladesh: 1.492958\n",
            " Work Country_Belgium: 0.000027\n",
            " Work Country_Bosnia and Herzegovina: 1.339623\n",
            " Work Country_Brazil: 0.000053\n",
            " Work Country_Brunei: 0.669811\n",
            " Work Country_Bulgaria: 0.388159\n",
            " Work Country_Canada: 3.321099\n",
            " Work Country_Chile: 0.057401\n",
            " Work Country_China: 0.669811\n",
            " Work Country_Colombia: 1.339623\n",
            " Work Country_Costa Rica: 0.669811\n",
            " Work Country_Czech Republic: 2.009434\n",
            " Work Country_Denmark: 0.388159\n",
            " Work Country_Ecuador: 1.492958\n",
            " Work Country_Estonia: 1.339623\n",
            " Work Country_Finland: 1.943738\n",
            " Work Country_France: 2.034556\n",
            " Work Country_Germany: 12.086122\n",
            " Work Country_Greece: 0.669811\n",
            " Work Country_Guatemala: 1.492958\n",
            " Work Country_Hungary: 0.669811\n",
            " Work Country_India: 1.199176\n",
            " Work Country_Iran: 0.669811\n",
            " Work Country_Ireland: 0.000080\n",
            " Work Country_Israel: 1.339623\n",
            " Work Country_Italy: 2.009434\n",
            " Work Country_Japan: 0.669811\n",
            " Work Country_Lithuania: 1.492958\n",
            " Work Country_Mexico: 1.339623\n",
            " Work Country_Netherlands: 0.408230\n",
            " Work Country_New Zealand: 0.172203\n",
            " Work Country_Norway: 0.057401\n",
            " Work Country_Other: 1.339623\n",
            " Work Country_Pakistan: 1.339623\n",
            " Work Country_Poland: 2.679245\n",
            " Work Country_Romania: 0.057401\n",
            " Work Country_Russia: 3.151209\n",
            " Work Country_Serbia: 0.669811\n",
            " Work Country_Slovakia: 0.669811\n",
            " Work Country_South Africa: 2.679245\n",
            " Work Country_Spain: 2.009434\n",
            " Work Country_Sweden: 3.367951\n",
            " Work Country_Switzerland: 0.425737\n",
            " Work Country_Turkey: 0.669811\n",
            " Work Country_United Arab Emirates: 1.492958\n",
            " Work Country_United Kingdom: 2.012858\n",
            " Work Country_United States of America: 16.229534\n",
            " Work Country_Venezuela: 0.669811\n",
            " Work Country_Vietnam: 0.669811\n"
          ]
        }
      ]
    },
    {
      "cell_type": "code",
      "source": [
        "datset = pd.DataFrame()\n",
        "datset['feature'] = X.columns[range(len(sf_fit.scores_))]\n",
        "datset['scores'] = sf_fit.scores_\n",
        "datset = datset.sort_values(by='scores', ascending=True)\n",
        "\n",
        "#Create barplot\n",
        "plt.figure(figsize=(15,8))\n",
        "sns.barplot(x=datset['scores'], y=datset['feature'], color='blue')\n",
        "#Set style attributes\n",
        "sns.set_style('whitegrid')\n",
        "plt.ylabel('Categorical Feature', fontsize=12)\n",
        "plt.xlabel('Score', fontsize=18)\n",
        "plt.show()"
      ],
      "metadata": {
        "colab": {
          "base_uri": "https://localhost:8080/",
          "height": 709
        },
        "id": "CPA78ICJiFns",
        "outputId": "9c57d1ed-f2b8-4bb5-b81f-402385492d79"
      },
      "execution_count": null,
      "outputs": [
        {
          "output_type": "display_data",
          "data": {
            "text/plain": [
              "<Figure size 1500x800 with 1 Axes>"
            ],
            "image/png": "[encoded data removed]"
          },
          "metadata": {}
        }
      ]
    },
    {
      "cell_type": "code",
      "source": [
        "X1 = data.drop('Current illness', axis=1)\n",
        "y1 = data['Current illness']"
      ],
      "metadata": {
        "id": "lzhYRPj4iI7S"
      },
      "execution_count": null,
      "outputs": []
    },
    {
      "cell_type": "code",
      "source": [
        "oe = OrdinalEncoder()\n",
        "oe.fit(X1)\n",
        "X_enc = oe.transform(X1)\n",
        "\n",
        "#Prepare target variable\n",
        "#Label encoder is used to encode the output, or target variable,\n",
        "#  in this case if the entry individual has a current mental illness or not\n",
        "le = LabelEncoder()\n",
        "le.fit(y1)\n",
        "y_enc = le.transform(y1)"
      ],
      "metadata": {
        "id": "17c9QbEPiMhz"
      },
      "execution_count": null,
      "outputs": []
    },
    {
      "cell_type": "code",
      "source": [
        "print(X_enc.shape)\n",
        "X_enc"
      ],
      "metadata": {
        "colab": {
          "base_uri": "https://localhost:8080/"
        },
        "id": "gG4x5kksiO_V",
        "outputId": "7a6de615-cd50-4468-8f85-b211dac77369"
      },
      "execution_count": null,
      "outputs": [
        {
          "output_type": "stream",
          "name": "stdout",
          "text": [
            "(1416, 12)\n"
          ]
        },
        {
          "output_type": "execute_result",
          "data": {
            "text/plain": [
              "array([[ 2.,  1.,  1., ...,  1., 49., 49.],\n",
              "       [ 4.,  1.,  1., ...,  1., 50., 50.],\n",
              "       [ 4.,  1.,  1., ...,  1., 49., 49.],\n",
              "       ...,\n",
              "       [ 1.,  1.,  2., ...,  1., 50., 50.],\n",
              "       [ 1.,  0.,  0., ...,  0., 50., 50.],\n",
              "       [ 1.,  1.,  2., ...,  2., 11., 10.]])"
            ]
          },
          "metadata": {},
          "execution_count": 94
        }
      ]
    },
    {
      "cell_type": "code",
      "source": [
        "print(y_enc.shape)\n",
        "y_enc"
      ],
      "metadata": {
        "colab": {
          "base_uri": "https://localhost:8080/"
        },
        "id": "kp8Blv3ZiQSj",
        "outputId": "3afe6bc5-82fb-45cb-969c-91dd2c8afaa5"
      },
      "execution_count": null,
      "outputs": [
        {
          "output_type": "stream",
          "name": "stdout",
          "text": [
            "(1416,)\n"
          ]
        },
        {
          "output_type": "execute_result",
          "data": {
            "text/plain": [
              "array([1, 2, 1, ..., 0, 2, 2])"
            ]
          },
          "metadata": {},
          "execution_count": 95
        }
      ]
    },
    {
      "cell_type": "code",
      "source": [
        "np.any(np.isnan(X_enc))"
      ],
      "metadata": {
        "colab": {
          "base_uri": "https://localhost:8080/"
        },
        "id": "SpyxqYg5iRrL",
        "outputId": "95cdc977-f696-4106-8b4d-446f64f9df1e"
      },
      "execution_count": null,
      "outputs": [
        {
          "output_type": "execute_result",
          "data": {
            "text/plain": [
              "True"
            ]
          },
          "metadata": {},
          "execution_count": 96
        }
      ]
    },
    {
      "cell_type": "code",
      "source": [
        "X_enc[np.isnan(X_enc)] = 0"
      ],
      "metadata": {
        "id": "r9RS89Z9iTEC"
      },
      "execution_count": null,
      "outputs": []
    },
    {
      "cell_type": "code",
      "source": [
        "sf = SelectKBest(chi2, k='all')\n",
        "sf_fit1 = sf.fit(X_enc, y_enc)\n",
        "\n",
        "#Print feature scores\n",
        "for i in range(len(sf_fit1.scores_)):\n",
        "    print(' %s: %f' % (X1.columns[i], sf_fit1.scores_[i]))"
      ],
      "metadata": {
        "colab": {
          "base_uri": "https://localhost:8080/"
        },
        "id": "wa8v9CeXiUyS",
        "outputId": "9aa51740-4eab-4cd5-b4ef-631eefcda88c"
      },
      "execution_count": null,
      "outputs": [
        {
          "output_type": "stream",
          "name": "stdout",
          "text": [
            " Num. Employees: 0.776808\n",
            " Tech company?: 0.039288\n",
            " M-H benefits?: 20.464452\n",
            " Workplace Discussion?: 0.669686\n",
            " Medical Coverage?: 1.818980\n",
            " Previously diagnosed?: 305.972649\n",
            " Sought help?: 188.799681\n",
            " Illness history?: 42.472859\n",
            " Age: 0.036073\n",
            " Gender: 5.661381\n",
            " Live Country: 93.804847\n",
            " Work Country: 105.489083\n"
          ]
        }
      ]
    },
    {
      "cell_type": "code",
      "source": [
        "datset1 = pd.DataFrame()\n",
        "datset1['feature'] = X1.columns[range(len(sf_fit1.scores_))]\n",
        "datset1['scores'] = sf_fit1.scores_\n",
        "datset1 = datset1.sort_values(by='scores', ascending=True)\n",
        "\n",
        "#Create barplot\n",
        "sns.barplot(x=datset1['scores'], y=datset1['feature'], color='blue')\n",
        "#Set style\n",
        "sns.set_style('whitegrid')\n",
        "plt.ylabel('Categorical Feature', fontsize=18)\n",
        "plt.xlabel('Score', fontsize=18)\n",
        "plt.show()"
      ],
      "metadata": {
        "colab": {
          "base_uri": "https://localhost:8080/",
          "height": 459
        },
        "id": "pEPf5cB-iWLr",
        "outputId": "ac603fda-48e3-44ec-8e2a-76859fe1ad3d"
      },
      "execution_count": null,
      "outputs": [
        {
          "output_type": "display_data",
          "data": {
            "text/plain": [
              "<Figure size 640x480 with 1 Axes>"
            ],
            "image/png": "[encoded data removed]"
          },
          "metadata": {}
        }
      ]
    },
    {
      "cell_type": "code",
      "source": [
        "data.drop(columns=['Workplace Discussion?','Tech company?'],\n",
        "          inplace=True)"
      ],
      "metadata": {
        "id": "S7FrKyYyiYF7"
      },
      "execution_count": null,
      "outputs": []
    },
    {
      "cell_type": "code",
      "source": [
        "data.to_csv('Data_2016.csv')"
      ],
      "metadata": {
        "id": "vghJ2dSCic9L"
      },
      "execution_count": null,
      "outputs": []
    },
    {
      "cell_type": "code",
      "source": [
        "df = pd.read_csv('/content/Data_2016.csv')"
      ],
      "metadata": {
        "id": "P1VyxmQFie-0"
      },
      "execution_count": null,
      "outputs": []
    },
    {
      "cell_type": "code",
      "source": [
        "df.shape"
      ],
      "metadata": {
        "colab": {
          "base_uri": "https://localhost:8080/"
        },
        "id": "FegjyroYig-U",
        "outputId": "31489d79-5a9f-4349-abd0-905d4f6ec3b7"
      },
      "execution_count": null,
      "outputs": [
        {
          "output_type": "execute_result",
          "data": {
            "text/plain": [
              "(1416, 12)"
            ]
          },
          "metadata": {},
          "execution_count": 104
        }
      ]
    },
    {
      "cell_type": "code",
      "source": [
        "df.drop(columns=['Unnamed: 0'],inplace = True)"
      ],
      "metadata": {
        "id": "98E6WknFikNr"
      },
      "execution_count": null,
      "outputs": []
    },
    {
      "cell_type": "code",
      "source": [
        "df"
      ],
      "metadata": {
        "id": "baH5j-Ffima7"
      },
      "execution_count": null,
      "outputs": []
    },
    {
      "cell_type": "code",
      "source": [
        "df.to_csv('Data_2016.csv')"
      ],
      "metadata": {
        "id": "b1p9zxBGioSD"
      },
      "execution_count": null,
      "outputs": []
    },
    {
      "cell_type": "code",
      "source": [],
      "metadata": {
        "id": "MI6j8dbYiwJD"
      },
      "execution_count": null,
      "outputs": []
    }
  ]
}